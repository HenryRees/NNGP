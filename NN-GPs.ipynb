{
 "cells": [
  {
   "cell_type": "code",
   "execution_count": 544,
   "metadata": {
    "Collapsed": "false",
    "ExecuteTime": {
     "end_time": "2020-04-21T14:34:00.008987Z",
     "start_time": "2020-04-21T14:33:59.999689Z"
    }
   },
   "outputs": [
    {
     "name": "stdout",
     "output_type": "stream",
     "text": [
      "The autoreload extension is already loaded. To reload it, use:\n",
      "  %reload_ext autoreload\n"
     ]
    }
   ],
   "source": [
    "import tensorflow.keras as keras\n",
    "import tensorflow as tf\n",
    "import numpy as np\n",
    "import plotly.graph_objects as go\n",
    "import plotly.io as pio\n",
    "from tqdm import tqdm, trange\n",
    "import matplotlib.pyplot as plt\n",
    "import logging\n",
    "import os\n",
    "logging.basicConfig(format='%(asctime)s - %(message)s', level=logging.INFO)\n",
    "\n",
    "import nngp\n",
    "import neural_net\n",
    "\n",
    "from IPython.core.display import HTML\n",
    "\n",
    "%load_ext autoreload\n",
    "%autoreload 2"
   ]
  },
  {
   "cell_type": "markdown",
   "metadata": {
    "Collapsed": "false"
   },
   "source": [
    "## Experimental Functions"
   ]
  },
  {
   "cell_type": "code",
   "execution_count": 25,
   "metadata": {
    "Collapsed": "false"
   },
   "outputs": [],
   "source": [
    "def prep_data(X, Y, dtype=tf.float64):\n",
    "    X_flat = tf.convert_to_tensor(X.reshape(-1, 28*28)/255, dtype=dtype)\n",
    "    Y_cat = keras.utils.to_categorical(Y)\n",
    "    Y_cat = Y_cat - 0.1\n",
    "    Y_cat = tf.convert_to_tensor(Y_cat, dtype=dtype)\n",
    "    return X_flat, Y_cat"
   ]
  },
  {
   "cell_type": "code",
   "execution_count": 26,
   "metadata": {
    "Collapsed": "false"
   },
   "outputs": [],
   "source": [
    "def evaluate_NN(X_train, Y_train, X_test, Y_test, model):\n",
    "    model.fit(X_train, Y_train, verbose=0)\n",
    "    output = model.predict(X_test, verbose=0)\n",
    "    predictions = tf.argmax(output, axis=1).numpy()\n",
    "    acc = np.equal(predictions, Y_test).sum()/len(Y_test)\n",
    "    return acc, loss"
   ]
  },
  {
   "cell_type": "code",
   "execution_count": 119,
   "metadata": {
    "Collapsed": "false"
   },
   "outputs": [],
   "source": [
    "def evaluate_GP(X_train, Y_train, X_test, Y_test, K, jitter=0.1):\n",
    "    mu_bar, _ = nngp.GP(X_train, Y_train, X_test, K, jitter)\n",
    "    predictions = tf.argmax(mu_bar, axis=1).numpy()\n",
    "    \n",
    "    acc = np.equal(predictions, Y_test).sum()/len(Y_test)\n",
    "    return acc"
   ]
  },
  {
   "cell_type": "markdown",
   "metadata": {
    "Collapsed": "false"
   },
   "source": [
    "## Experiments"
   ]
  },
  {
   "cell_type": "markdown",
   "metadata": {
    "Collapsed": "true"
   },
   "source": [
    "### NN vs NNGP"
   ]
  },
  {
   "cell_type": "code",
   "execution_count": 33,
   "metadata": {
    "Collapsed": "false"
   },
   "outputs": [],
   "source": [
    "# Load the mnist dataset\n",
    "(X_train, Y_train), (X_test, Y_test) = keras.datasets.mnist.load_data()"
   ]
  },
  {
   "cell_type": "code",
   "execution_count": 34,
   "metadata": {
    "Collapsed": "false"
   },
   "outputs": [],
   "source": [
    "X_train_flat, Y_train_cat = prep_data(X_train, Y_train)\n",
    "X_test_flat, Y_test_cat = prep_data(X_test, Y_test)\n",
    "din = X_train_flat.shape[1]\n",
    "dout = Y_test_cat.shape[1]"
   ]
  },
  {
   "cell_type": "code",
   "execution_count": 62,
   "metadata": {
    "Collapsed": "false"
   },
   "outputs": [],
   "source": [
    "n_data = 1000\n",
    "n_test = 200\n",
    "\n",
    "D = X_train_flat[:n_data]\n",
    "t = Y_train_cat[:n_data]\n",
    "X_test_n = X_test_flat[:n_test]\n",
    "Y_test_n = Y_test[:n_test]"
   ]
  },
  {
   "cell_type": "code",
   "execution_count": 116,
   "metadata": {
    "Collapsed": "false"
   },
   "outputs": [
    {
     "name": "stderr",
     "output_type": "stream",
     "text": [
      "2020-04-24 23:32:31,626 - Caclulating grid\n",
      "2020-04-24 23:32:31,638 - Loaded grid from file\n"
     ]
    }
   ],
   "source": [
    "act = tf.nn.relu\n",
    "general_kernel = nngp.GeneralKernel(act, L=4, n_g=401, n_v=400, n_c=400, u_max=10, s_max=100)"
   ]
  },
  {
   "cell_type": "code",
   "execution_count": 106,
   "metadata": {
    "Collapsed": "false"
   },
   "outputs": [],
   "source": [
    "analytical_kernel = nngp.AnalyticalKernel(L=1)\n",
    "# analytical_kernel.K(D,X)"
   ]
  },
  {
   "cell_type": "code",
   "execution_count": 107,
   "metadata": {
    "Collapsed": "false"
   },
   "outputs": [],
   "source": [
    "K_D_general = general_kernel.K(D, X_test_n)"
   ]
  },
  {
   "cell_type": "code",
   "execution_count": 108,
   "metadata": {
    "Collapsed": "false"
   },
   "outputs": [],
   "source": [
    "K_D_analytical = analytical_kernel.K(D, X_test_n)"
   ]
  },
  {
   "cell_type": "code",
   "execution_count": 109,
   "metadata": {
    "Collapsed": "false"
   },
   "outputs": [
    {
     "data": {
      "text/plain": [
       "<tf.Tensor: shape=(1000, 200), dtype=float64, numpy=\n",
       "array([[1.45721028, 1.45726183, 1.45614859, ..., 1.45946671, 1.45659993,\n",
       "        1.46062993],\n",
       "       [1.45594612, 1.45656417, 1.45504623, ..., 1.45810963, 1.45535751,\n",
       "        1.45902862],\n",
       "       [1.45836028, 1.45797673, 1.4573527 , ..., 1.45882156, 1.45849677,\n",
       "        1.45944988],\n",
       "       ...,\n",
       "       [1.45591871, 1.45595254, 1.45468848, ..., 1.45820913, 1.45518637,\n",
       "        1.45824654],\n",
       "       [1.45755822, 1.45978671, 1.45739851, ..., 1.4582156 , 1.45724842,\n",
       "        1.46057181],\n",
       "       [1.45704513, 1.45861511, 1.45704676, ..., 1.46124066, 1.45726532,\n",
       "        1.46002263]])>"
      ]
     },
     "execution_count": 109,
     "metadata": {},
     "output_type": "execute_result"
    }
   ],
   "source": [
    "K_D_general"
   ]
  },
  {
   "cell_type": "code",
   "execution_count": 110,
   "metadata": {
    "Collapsed": "false"
   },
   "outputs": [
    {
     "data": {
      "text/plain": [
       "-0.04195632307720176"
      ]
     },
     "execution_count": 110,
     "metadata": {},
     "output_type": "execute_result"
    }
   ],
   "source": [
    "(K_D_general-K_D_analytical).numpy().max()"
   ]
  },
  {
   "cell_type": "code",
   "execution_count": 126,
   "metadata": {
    "Collapsed": "false"
   },
   "outputs": [],
   "source": [
    "acc = evaluate_GP(D, t, X_test_n, Y_test_n, general_kernel.K, jitter=0.01)"
   ]
  },
  {
   "cell_type": "code",
   "execution_count": 127,
   "metadata": {
    "Collapsed": "false"
   },
   "outputs": [
    {
     "data": {
      "text/plain": [
       "0.885"
      ]
     },
     "execution_count": 127,
     "metadata": {},
     "output_type": "execute_result"
    }
   ],
   "source": [
    "acc"
   ]
  },
  {
   "cell_type": "code",
   "execution_count": 128,
   "metadata": {
    "Collapsed": "false"
   },
   "outputs": [
    {
     "name": "stdout",
     "output_type": "stream",
     "text": [
      "WARNING:tensorflow:7 out of the last 11 calls to <function _call_analytical_K at 0x1056e1170> triggered tf.function retracing. Tracing is expensive and the excessive number of tracings is likely due to passing python objects instead of tensors. Also, tf.function has experimental_relax_shapes=True option that relaxes argument shapes that can avoid unnecessary retracing. Please refer to https://www.tensorflow.org/tutorials/customization/performance#python_or_tensor_args and https://www.tensorflow.org/api_docs/python/tf/function for more details.\n"
     ]
    },
    {
     "name": "stderr",
     "output_type": "stream",
     "text": [
      "2020-04-24 23:33:16,033 - 7 out of the last 11 calls to <function _call_analytical_K at 0x1056e1170> triggered tf.function retracing. Tracing is expensive and the excessive number of tracings is likely due to passing python objects instead of tensors. Also, tf.function has experimental_relax_shapes=True option that relaxes argument shapes that can avoid unnecessary retracing. Please refer to https://www.tensorflow.org/tutorials/customization/performance#python_or_tensor_args and https://www.tensorflow.org/api_docs/python/tf/function for more details.\n"
     ]
    },
    {
     "name": "stdout",
     "output_type": "stream",
     "text": [
      "WARNING:tensorflow:7 out of the last 11 calls to <function _call_analytical_K at 0x1056e1170> triggered tf.function retracing. Tracing is expensive and the excessive number of tracings is likely due to passing python objects instead of tensors. Also, tf.function has experimental_relax_shapes=True option that relaxes argument shapes that can avoid unnecessary retracing. Please refer to https://www.tensorflow.org/tutorials/customization/performance#python_or_tensor_args and https://www.tensorflow.org/api_docs/python/tf/function for more details.\n"
     ]
    },
    {
     "name": "stderr",
     "output_type": "stream",
     "text": [
      "2020-04-24 23:33:16,212 - 7 out of the last 11 calls to <function _call_analytical_K at 0x1056e1170> triggered tf.function retracing. Tracing is expensive and the excessive number of tracings is likely due to passing python objects instead of tensors. Also, tf.function has experimental_relax_shapes=True option that relaxes argument shapes that can avoid unnecessary retracing. Please refer to https://www.tensorflow.org/tutorials/customization/performance#python_or_tensor_args and https://www.tensorflow.org/api_docs/python/tf/function for more details.\n"
     ]
    },
    {
     "name": "stdout",
     "output_type": "stream",
     "text": [
      "WARNING:tensorflow:7 out of the last 11 calls to <function _call_analytical_K at 0x1056e1170> triggered tf.function retracing. Tracing is expensive and the excessive number of tracings is likely due to passing python objects instead of tensors. Also, tf.function has experimental_relax_shapes=True option that relaxes argument shapes that can avoid unnecessary retracing. Please refer to https://www.tensorflow.org/tutorials/customization/performance#python_or_tensor_args and https://www.tensorflow.org/api_docs/python/tf/function for more details.\n"
     ]
    },
    {
     "name": "stderr",
     "output_type": "stream",
     "text": [
      "2020-04-24 23:33:16,357 - 7 out of the last 11 calls to <function _call_analytical_K at 0x1056e1170> triggered tf.function retracing. Tracing is expensive and the excessive number of tracings is likely due to passing python objects instead of tensors. Also, tf.function has experimental_relax_shapes=True option that relaxes argument shapes that can avoid unnecessary retracing. Please refer to https://www.tensorflow.org/tutorials/customization/performance#python_or_tensor_args and https://www.tensorflow.org/api_docs/python/tf/function for more details.\n"
     ]
    }
   ],
   "source": [
    "acc = evaluate_GP(D, t, X_test_n, Y_test_n, analytical_kernel.K, jitter=0.01)"
   ]
  },
  {
   "cell_type": "code",
   "execution_count": 129,
   "metadata": {
    "Collapsed": "false"
   },
   "outputs": [
    {
     "data": {
      "text/plain": [
       "0.955"
      ]
     },
     "execution_count": 129,
     "metadata": {},
     "output_type": "execute_result"
    }
   ],
   "source": [
    "acc"
   ]
  },
  {
   "cell_type": "code",
   "execution_count": 107,
   "metadata": {
    "Collapsed": "false"
   },
   "outputs": [],
   "source": [
    "model = build_model((din,), dout, 3, 2000, 'relu', final_activation=None)"
   ]
  },
  {
   "cell_type": "code",
   "execution_count": 108,
   "metadata": {
    "Collapsed": "false"
   },
   "outputs": [],
   "source": [
    "model.compile(optimizer='Adam', loss='MSE', metrics=['accuracy'])"
   ]
  },
  {
   "cell_type": "code",
   "execution_count": null,
   "metadata": {
    "Collapsed": "false"
   },
   "outputs": [],
   "source": [
    "evaluate_NN(D, t, X, Y_test, model)"
   ]
  },
  {
   "cell_type": "code",
   "execution_count": 159,
   "metadata": {
    "Collapsed": "false"
   },
   "outputs": [
    {
     "ename": "NameError",
     "evalue": "name 'mu_bar' is not defined",
     "output_type": "error",
     "traceback": [
      "\u001b[0;31m---------------------------------------------------------------------------\u001b[0m",
      "\u001b[0;31mNameError\u001b[0m                                 Traceback (most recent call last)",
      "\u001b[0;32m<ipython-input-159-d4edde588376>\u001b[0m in \u001b[0;36m<module>\u001b[0;34m\u001b[0m\n\u001b[1;32m      1\u001b[0m fig = go.Figure(\n\u001b[0;32m----> 2\u001b[0;31m     \u001b[0mdata\u001b[0m\u001b[0;34m=\u001b[0m\u001b[0;34m[\u001b[0m\u001b[0mgo\u001b[0m\u001b[0;34m.\u001b[0m\u001b[0mScatter\u001b[0m\u001b[0;34m(\u001b[0m\u001b[0my\u001b[0m\u001b[0;34m=\u001b[0m\u001b[0mmu_bar\u001b[0m\u001b[0;34m,\u001b[0m \u001b[0mx\u001b[0m\u001b[0;34m=\u001b[0m\u001b[0mx\u001b[0m\u001b[0;34m)\u001b[0m\u001b[0;34m]\u001b[0m\u001b[0;34m,\u001b[0m\u001b[0;34m\u001b[0m\u001b[0;34m\u001b[0m\u001b[0m\n\u001b[0m\u001b[1;32m      3\u001b[0m     \u001b[0mlayout_title_text\u001b[0m\u001b[0;34m=\u001b[0m\u001b[0;34m\"A Figure Displayed with fig.show()\"\u001b[0m\u001b[0;34m\u001b[0m\u001b[0;34m\u001b[0m\u001b[0m\n\u001b[1;32m      4\u001b[0m )\n\u001b[1;32m      5\u001b[0m \u001b[0mfig\u001b[0m\u001b[0;34m.\u001b[0m\u001b[0mwrite_html\u001b[0m\u001b[0;34m(\u001b[0m\u001b[0;34m\"file.html\"\u001b[0m\u001b[0;34m)\u001b[0m\u001b[0;34m\u001b[0m\u001b[0;34m\u001b[0m\u001b[0m\n",
      "\u001b[0;31mNameError\u001b[0m: name 'mu_bar' is not defined"
     ]
    }
   ],
   "source": [
    "fig = go.Figure(\n",
    "    data=[go.Scatter(y=mu_bar, x=x)],\n",
    "    layout_title_text=\"A Figure Displayed with fig.show()\"\n",
    ")\n",
    "fig.write_html(\"file.html\")"
   ]
  },
  {
   "cell_type": "code",
   "execution_count": 161,
   "metadata": {
    "Collapsed": "false"
   },
   "outputs": [],
   "source": [
    "import tensorflow_probability as tfp"
   ]
  },
  {
   "cell_type": "code",
   "execution_count": null,
   "metadata": {
    "Collapsed": "false"
   },
   "outputs": [],
   "source": [
    "yref = [[10,20,30],[20,30,40]]\n",
    "yref = tf.convert_to_tensor(yref)\n",
    "x_ref_min = tf.constant([0, 0])\n",
    "x_ref_max = tf.constant([3, 3])\n",
    "x = \n",
    "\n",
    "\n",
    "tfp.math.batch_interp_regular_nd_grid(\n",
    "    x, x_ref_min, x_ref_max, y_ref, axis, fill_value='constant_extension', name=None\n",
    ")"
   ]
  },
  {
   "cell_type": "code",
   "execution_count": 207,
   "metadata": {
    "Collapsed": "false"
   },
   "outputs": [
    {
     "data": {
      "text/plain": [
       "<tf.Tensor: shape=(10,), dtype=float32, numpy=\n",
       "array([-0.1416741 ,  0.5625572 , -0.48798943,  0.7856882 ,  0.08622341,\n",
       "        0.304323  ,  0.72483563,  0.16174427,  0.17111623,  0.46674064],\n",
       "      dtype=float32)>"
      ]
     },
     "execution_count": 207,
     "metadata": {},
     "output_type": "execute_result"
    }
   ],
   "source": [
    "x_ref_min = [0., 0.]\n",
    "x_ref_max = [2 * np.pi, 2 * np.pi]\n",
    "\n",
    "# Build y_ref.\n",
    "x0s, x1s = tf.meshgrid(\n",
    "    tf.linspace(x_ref_min[0], x_ref_max[0], num=100),\n",
    "    tf.linspace(x_ref_min[1], x_ref_max[1], num=100),\n",
    "    indexing='ij')\n",
    "\n",
    "def func(x0, x1):\n",
    "    return tf.sin(x0) * tf.cos(x1)\n",
    "\n",
    "y_ref = func(x0s, x1s)\n",
    "\n",
    "x = np.pi * tf.random.uniform(shape=(10, 2))\n",
    "\n",
    "tfp.math.batch_interp_regular_nd_grid(x, x_ref_min, x_ref_max, y_ref, axis=-2)"
   ]
  },
  {
   "cell_type": "code",
   "execution_count": 208,
   "metadata": {
    "Collapsed": "false"
   },
   "outputs": [
    {
     "data": {
      "text/plain": [
       "<tf.Tensor: shape=(10, 2), dtype=float32, numpy=\n",
       "array([[2.8638003 , 2.114081  ],\n",
       "       [2.1672916 , 0.8227545 ],\n",
       "       [0.95602506, 2.2112918 ],\n",
       "       [1.6944642 , 0.65602136],\n",
       "       [0.09083032, 0.31378147],\n",
       "       [2.3476958 , 1.1297177 ],\n",
       "       [2.1021342 , 0.57177037],\n",
       "       [2.6720374 , 1.2051793 ],\n",
       "       [1.3167788 , 1.3929853 ],\n",
       "       [0.57677644, 0.54241467]], dtype=float32)>"
      ]
     },
     "execution_count": 208,
     "metadata": {},
     "output_type": "execute_result"
    }
   ],
   "source": [
    "x"
   ]
  },
  {
   "cell_type": "code",
   "execution_count": 365,
   "metadata": {
    "Collapsed": "false"
   },
   "outputs": [],
   "source": [
    "x_ref_min = 0\n",
    "x_ref_max = 10\n",
    "Xp = tf.convert_to_tensor([3.4], dtype=tf.float64)\n",
    "X = tf.convert_to_tensor(np.linspace(10,20,10), dtype=tf.float64)\n",
    "elements = tfp.math.batch_interp_regular_1d_grid(Xp, 0, 10, X)"
   ]
  },
  {
   "cell_type": "code",
   "execution_count": 366,
   "metadata": {
    "Collapsed": "false"
   },
   "outputs": [
    {
     "data": {
      "text/plain": [
       "<tf.Tensor: shape=(1,), dtype=float64, numpy=array([13.4])>"
      ]
     },
     "execution_count": 366,
     "metadata": {},
     "output_type": "execute_result"
    }
   ],
   "source": [
    "elements"
   ]
  },
  {
   "cell_type": "markdown",
   "metadata": {
    "Collapsed": "false"
   },
   "source": [
    "### Angular form of the kernel"
   ]
  },
  {
   "cell_type": "code",
   "execution_count": 481,
   "metadata": {
    "Collapsed": "false"
   },
   "outputs": [],
   "source": [
    "def make_norms(vectors):\n",
    "    \"\"\" Makes square of the norm of a vector equal it's dimension\n",
    "    \"\"\"\n",
    "    din = len(vectors[0])\n",
    "    return np.sqrt(din)*vectors / np.linalg.norm(vectors, axis=1, keepdims=True)\n",
    "\n",
    "def rotate(vector, theta):\n",
    "    \"\"\" Rotate a 2d vector by an angle theta\n",
    "    \"\"\"\n",
    "    R = np.array([[np.cos(theta), -np.sin(theta)],[np.sin(theta), np.cos(theta)]])\n",
    "    return np.matmul(R, vector.T)\n",
    "\n",
    "def unit_vector(vector):\n",
    "    \"\"\" Returns the unit vector of the vector.  \"\"\"\n",
    "    return vector / np.linalg.norm(vector)\n",
    "\n",
    "def angle_between(v1, v2):\n",
    "    \"\"\" Returns the angle in radians between vectors 'v1' and 'v2'\n",
    "    \"\"\"\n",
    "    v1_u = unit_vector(v1)\n",
    "    v2_u = unit_vector(v2)\n",
    "    return np.arccos(np.clip(np.dot(v1_u, v2_u), -1.0, 1.0))"
   ]
  },
  {
   "cell_type": "code",
   "execution_count": 496,
   "metadata": {
    "Collapsed": "false"
   },
   "outputs": [],
   "source": [
    "n_vectors = 50"
   ]
  },
  {
   "cell_type": "code",
   "execution_count": 497,
   "metadata": {
    "Collapsed": "false"
   },
   "outputs": [],
   "source": [
    "# Generate n_vector pairs at a range of angles\n",
    "angles = np.linspace(0, 2*np.pi, n_vectors)\n",
    "vectors = np.random.random(size=(n_vectors, 2))\n",
    "rotated_vectors = np.empty(vectors.shape)\n",
    "for i, vector in enumerate(vectors):\n",
    "    rotated_vectors[i,:] = rotate(vector, angles[i])\n",
    "    \n",
    "vectors = make_norms(vectors)\n",
    "rotated_vectors = make_norms(rotated_vectors)"
   ]
  },
  {
   "cell_type": "code",
   "execution_count": 499,
   "metadata": {
    "Collapsed": "false"
   },
   "outputs": [],
   "source": [
    "def run_angular(vectors, rotated_vectors, K):\n",
    "    \"\"\" Obtain result of applying kernel K to vectors and rotated_vetors in turn\n",
    "    \"\"\"\n",
    "\n",
    "    K_thetas = np.empty((vectors.shape[0],))\n",
    "    for i, vector_pair in enumerate(zip(vectors, rotated_vectors)):\n",
    "        K_thetas[i] = K(tf.convert_to_tensor([vector_pair[0]], dtype=tf.float64), \n",
    "                        tf.convert_to_tensor([vector_pair[1]], dtype=tf.float64)).numpy()\n",
    "\n",
    "    return np.squeeze(K_thetas)"
   ]
  },
  {
   "cell_type": "code",
   "execution_count": 500,
   "metadata": {
    "Collapsed": "false"
   },
   "outputs": [
    {
     "name": "stderr",
     "output_type": "stream",
     "text": [
      "2020-04-25 12:11:42,526 - Caclulating grid\n",
      "2020-04-25 12:11:42,536 - Loaded grid from file\n"
     ]
    }
   ],
   "source": [
    "depths = range(0, 9)\n",
    "sigma_b = np.sqrt(0.1)\n",
    "sigma_w = np.sqrt(1.6)\n",
    "\n",
    "# Intialise Kernels\n",
    "analytical_kernel = nngp.AnalyticalKernel(L=0, sigma_b=sigma_b, sigma_w=sigma_w)\n",
    "general_kernel = nngp.GeneralKernel(tf.nn.relu, sigma_b=sigma_b, sigma_w=sigma_w ,L=0, n_g=401, n_v=400, n_c=400, u_max=10, s_max=100)\n",
    "\n",
    "K_thetas_analytical = np.empty((len(vectors), len(depths)))\n",
    "K_thetas_general = np.empty((len(vectors), len(depths)))\n",
    "\n",
    "for depth in depths:\n",
    "    analytical_kernel.L = depth\n",
    "    general_kernel.L = depth\n",
    "    K_thetas_analytical[:, depth] = run_angular(vectors, rotated_vectors, analytical_kernel.K)\n",
    "    K_thetas_general[:, depth] = run_angular(vectors, rotated_vectors, general_kernel.K)"
   ]
  },
  {
   "cell_type": "code",
   "execution_count": 531,
   "metadata": {
    "Collapsed": "false"
   },
   "outputs": [
    {
     "data": {
      "text/html": [
       "\n",
       "    <div class=\"bk-root\">\n",
       "        <a href=\"https://bokeh.org\" target=\"_blank\" class=\"bk-logo bk-logo-small bk-logo-notebook\"></a>\n",
       "        <span id=\"2565\">Loading BokehJS ...</span>\n",
       "    </div>"
      ]
     },
     "metadata": {},
     "output_type": "display_data"
    },
    {
     "data": {
      "application/javascript": [
       "\n",
       "(function(root) {\n",
       "  function now() {\n",
       "    return new Date();\n",
       "  }\n",
       "\n",
       "  var force = true;\n",
       "\n",
       "  if (typeof root._bokeh_onload_callbacks === \"undefined\" || force === true) {\n",
       "    root._bokeh_onload_callbacks = [];\n",
       "    root._bokeh_is_loading = undefined;\n",
       "  }\n",
       "\n",
       "  var JS_MIME_TYPE = 'application/javascript';\n",
       "  var HTML_MIME_TYPE = 'text/html';\n",
       "  var EXEC_MIME_TYPE = 'application/vnd.bokehjs_exec.v0+json';\n",
       "  var CLASS_NAME = 'output_bokeh rendered_html';\n",
       "\n",
       "  /**\n",
       "   * Render data to the DOM node\n",
       "   */\n",
       "  function render(props, node) {\n",
       "    var script = document.createElement(\"script\");\n",
       "    node.appendChild(script);\n",
       "  }\n",
       "\n",
       "  /**\n",
       "   * Handle when an output is cleared or removed\n",
       "   */\n",
       "  function handleClearOutput(event, handle) {\n",
       "    var cell = handle.cell;\n",
       "\n",
       "    var id = cell.output_area._bokeh_element_id;\n",
       "    var server_id = cell.output_area._bokeh_server_id;\n",
       "    // Clean up Bokeh references\n",
       "    if (id != null && id in Bokeh.index) {\n",
       "      Bokeh.index[id].model.document.clear();\n",
       "      delete Bokeh.index[id];\n",
       "    }\n",
       "\n",
       "    if (server_id !== undefined) {\n",
       "      // Clean up Bokeh references\n",
       "      var cmd = \"from bokeh.io.state import curstate; print(curstate().uuid_to_server['\" + server_id + \"'].get_sessions()[0].document.roots[0]._id)\";\n",
       "      cell.notebook.kernel.execute(cmd, {\n",
       "        iopub: {\n",
       "          output: function(msg) {\n",
       "            var id = msg.content.text.trim();\n",
       "            if (id in Bokeh.index) {\n",
       "              Bokeh.index[id].model.document.clear();\n",
       "              delete Bokeh.index[id];\n",
       "            }\n",
       "          }\n",
       "        }\n",
       "      });\n",
       "      // Destroy server and session\n",
       "      var cmd = \"import bokeh.io.notebook as ion; ion.destroy_server('\" + server_id + \"')\";\n",
       "      cell.notebook.kernel.execute(cmd);\n",
       "    }\n",
       "  }\n",
       "\n",
       "  /**\n",
       "   * Handle when a new output is added\n",
       "   */\n",
       "  function handleAddOutput(event, handle) {\n",
       "    var output_area = handle.output_area;\n",
       "    var output = handle.output;\n",
       "\n",
       "    // limit handleAddOutput to display_data with EXEC_MIME_TYPE content only\n",
       "    if ((output.output_type != \"display_data\") || (!output.data.hasOwnProperty(EXEC_MIME_TYPE))) {\n",
       "      return\n",
       "    }\n",
       "\n",
       "    var toinsert = output_area.element.find(\".\" + CLASS_NAME.split(' ')[0]);\n",
       "\n",
       "    if (output.metadata[EXEC_MIME_TYPE][\"id\"] !== undefined) {\n",
       "      toinsert[toinsert.length - 1].firstChild.textContent = output.data[JS_MIME_TYPE];\n",
       "      // store reference to embed id on output_area\n",
       "      output_area._bokeh_element_id = output.metadata[EXEC_MIME_TYPE][\"id\"];\n",
       "    }\n",
       "    if (output.metadata[EXEC_MIME_TYPE][\"server_id\"] !== undefined) {\n",
       "      var bk_div = document.createElement(\"div\");\n",
       "      bk_div.innerHTML = output.data[HTML_MIME_TYPE];\n",
       "      var script_attrs = bk_div.children[0].attributes;\n",
       "      for (var i = 0; i < script_attrs.length; i++) {\n",
       "        toinsert[toinsert.length - 1].firstChild.setAttribute(script_attrs[i].name, script_attrs[i].value);\n",
       "        toinsert[toinsert.length - 1].firstChild.textContent = bk_div.children[0].textContent\n",
       "      }\n",
       "      // store reference to server id on output_area\n",
       "      output_area._bokeh_server_id = output.metadata[EXEC_MIME_TYPE][\"server_id\"];\n",
       "    }\n",
       "  }\n",
       "\n",
       "  function register_renderer(events, OutputArea) {\n",
       "\n",
       "    function append_mime(data, metadata, element) {\n",
       "      // create a DOM node to render to\n",
       "      var toinsert = this.create_output_subarea(\n",
       "        metadata,\n",
       "        CLASS_NAME,\n",
       "        EXEC_MIME_TYPE\n",
       "      );\n",
       "      this.keyboard_manager.register_events(toinsert);\n",
       "      // Render to node\n",
       "      var props = {data: data, metadata: metadata[EXEC_MIME_TYPE]};\n",
       "      render(props, toinsert[toinsert.length - 1]);\n",
       "      element.append(toinsert);\n",
       "      return toinsert\n",
       "    }\n",
       "\n",
       "    /* Handle when an output is cleared or removed */\n",
       "    events.on('clear_output.CodeCell', handleClearOutput);\n",
       "    events.on('delete.Cell', handleClearOutput);\n",
       "\n",
       "    /* Handle when a new output is added */\n",
       "    events.on('output_added.OutputArea', handleAddOutput);\n",
       "\n",
       "    /**\n",
       "     * Register the mime type and append_mime function with output_area\n",
       "     */\n",
       "    OutputArea.prototype.register_mime_type(EXEC_MIME_TYPE, append_mime, {\n",
       "      /* Is output safe? */\n",
       "      safe: true,\n",
       "      /* Index of renderer in `output_area.display_order` */\n",
       "      index: 0\n",
       "    });\n",
       "  }\n",
       "\n",
       "  // register the mime type if in Jupyter Notebook environment and previously unregistered\n",
       "  if (root.Jupyter !== undefined) {\n",
       "    var events = require('base/js/events');\n",
       "    var OutputArea = require('notebook/js/outputarea').OutputArea;\n",
       "\n",
       "    if (OutputArea.prototype.mime_types().indexOf(EXEC_MIME_TYPE) == -1) {\n",
       "      register_renderer(events, OutputArea);\n",
       "    }\n",
       "  }\n",
       "\n",
       "  \n",
       "  if (typeof (root._bokeh_timeout) === \"undefined\" || force === true) {\n",
       "    root._bokeh_timeout = Date.now() + 5000;\n",
       "    root._bokeh_failed_load = false;\n",
       "  }\n",
       "\n",
       "  var NB_LOAD_WARNING = {'data': {'text/html':\n",
       "     \"<div style='background-color: #fdd'>\\n\"+\n",
       "     \"<p>\\n\"+\n",
       "     \"BokehJS does not appear to have successfully loaded. If loading BokehJS from CDN, this \\n\"+\n",
       "     \"may be due to a slow or bad network connection. Possible fixes:\\n\"+\n",
       "     \"</p>\\n\"+\n",
       "     \"<ul>\\n\"+\n",
       "     \"<li>re-rerun `output_notebook()` to attempt to load from CDN again, or</li>\\n\"+\n",
       "     \"<li>use INLINE resources instead, as so:</li>\\n\"+\n",
       "     \"</ul>\\n\"+\n",
       "     \"<code>\\n\"+\n",
       "     \"from bokeh.resources import INLINE\\n\"+\n",
       "     \"output_notebook(resources=INLINE)\\n\"+\n",
       "     \"</code>\\n\"+\n",
       "     \"</div>\"}};\n",
       "\n",
       "  function display_loaded() {\n",
       "    var el = document.getElementById(\"2565\");\n",
       "    if (el != null) {\n",
       "      el.textContent = \"BokehJS is loading...\";\n",
       "    }\n",
       "    if (root.Bokeh !== undefined) {\n",
       "      if (el != null) {\n",
       "        el.textContent = \"BokehJS \" + root.Bokeh.version + \" successfully loaded.\";\n",
       "      }\n",
       "    } else if (Date.now() < root._bokeh_timeout) {\n",
       "      setTimeout(display_loaded, 100)\n",
       "    }\n",
       "  }\n",
       "\n",
       "\n",
       "  function run_callbacks() {\n",
       "    try {\n",
       "      root._bokeh_onload_callbacks.forEach(function(callback) {\n",
       "        if (callback != null)\n",
       "          callback();\n",
       "      });\n",
       "    } finally {\n",
       "      delete root._bokeh_onload_callbacks\n",
       "    }\n",
       "    console.debug(\"Bokeh: all callbacks have finished\");\n",
       "  }\n",
       "\n",
       "  function load_libs(css_urls, js_urls, callback) {\n",
       "    if (css_urls == null) css_urls = [];\n",
       "    if (js_urls == null) js_urls = [];\n",
       "\n",
       "    root._bokeh_onload_callbacks.push(callback);\n",
       "    if (root._bokeh_is_loading > 0) {\n",
       "      console.debug(\"Bokeh: BokehJS is being loaded, scheduling callback at\", now());\n",
       "      return null;\n",
       "    }\n",
       "    if (js_urls == null || js_urls.length === 0) {\n",
       "      run_callbacks();\n",
       "      return null;\n",
       "    }\n",
       "    console.debug(\"Bokeh: BokehJS not loaded, scheduling load and callback at\", now());\n",
       "    root._bokeh_is_loading = css_urls.length + js_urls.length;\n",
       "\n",
       "    function on_load() {\n",
       "      root._bokeh_is_loading--;\n",
       "      if (root._bokeh_is_loading === 0) {\n",
       "        console.debug(\"Bokeh: all BokehJS libraries/stylesheets loaded\");\n",
       "        run_callbacks()\n",
       "      }\n",
       "    }\n",
       "\n",
       "    function on_error() {\n",
       "      console.error(\"failed to load \" + url);\n",
       "    }\n",
       "\n",
       "    for (var i = 0; i < css_urls.length; i++) {\n",
       "      var url = css_urls[i];\n",
       "      const element = document.createElement(\"link\");\n",
       "      element.onload = on_load;\n",
       "      element.onerror = on_error;\n",
       "      element.rel = \"stylesheet\";\n",
       "      element.type = \"text/css\";\n",
       "      element.href = url;\n",
       "      console.debug(\"Bokeh: injecting link tag for BokehJS stylesheet: \", url);\n",
       "      document.body.appendChild(element);\n",
       "    }\n",
       "\n",
       "    const hashes = {\"https://cdn.bokeh.org/bokeh/release/bokeh-2.0.2.min.js\": \"ufR9RFnRs6lniiaFvtJziE0YeidtAgBRH6ux2oUItHw5WTvE1zuk9uzhUU/FJXDp\", \"https://cdn.bokeh.org/bokeh/release/bokeh-widgets-2.0.2.min.js\": \"8QM/PGWBT+IssZuRcDcjzwIh1mkOmJSoNMmyYDZbCfXJg3Ap1lEvdVgFuSAwhb/J\", \"https://cdn.bokeh.org/bokeh/release/bokeh-tables-2.0.2.min.js\": \"Jm8cH3Rg0P6UeZhVY5cLy1WzKajUT9KImCY+76hEqrcJt59/d8GPvFHjCkYgnSIn\", \"https://cdn.bokeh.org/bokeh/release/bokeh-gl-2.0.2.min.js\": \"Ozhzj+SI7ywm74aOI/UajcWz+C0NjsPunEVyVIrxzYkB+jA+2tUw8x5xJCbVtK5I\"};\n",
       "\n",
       "    for (var i = 0; i < js_urls.length; i++) {\n",
       "      var url = js_urls[i];\n",
       "      var element = document.createElement('script');\n",
       "      element.onload = on_load;\n",
       "      element.onerror = on_error;\n",
       "      element.async = false;\n",
       "      element.src = url;\n",
       "      if (url in hashes) {\n",
       "        element.crossOrigin = \"anonymous\";\n",
       "        element.integrity = \"sha384-\" + hashes[url];\n",
       "      }\n",
       "      console.debug(\"Bokeh: injecting script tag for BokehJS library: \", url);\n",
       "      document.head.appendChild(element);\n",
       "    }\n",
       "  };\n",
       "\n",
       "  function inject_raw_css(css) {\n",
       "    const element = document.createElement(\"style\");\n",
       "    element.appendChild(document.createTextNode(css));\n",
       "    document.body.appendChild(element);\n",
       "  }\n",
       "\n",
       "  \n",
       "  var js_urls = [\"https://cdn.bokeh.org/bokeh/release/bokeh-2.0.2.min.js\", \"https://cdn.bokeh.org/bokeh/release/bokeh-widgets-2.0.2.min.js\", \"https://cdn.bokeh.org/bokeh/release/bokeh-tables-2.0.2.min.js\", \"https://cdn.bokeh.org/bokeh/release/bokeh-gl-2.0.2.min.js\"];\n",
       "  var css_urls = [];\n",
       "  \n",
       "\n",
       "  var inline_js = [\n",
       "    function(Bokeh) {\n",
       "      Bokeh.set_log_level(\"info\");\n",
       "    },\n",
       "    function(Bokeh) {\n",
       "    \n",
       "    \n",
       "    }\n",
       "  ];\n",
       "\n",
       "  function run_inline_js() {\n",
       "    \n",
       "    if (root.Bokeh !== undefined || force === true) {\n",
       "      \n",
       "    for (var i = 0; i < inline_js.length; i++) {\n",
       "      inline_js[i].call(root, root.Bokeh);\n",
       "    }\n",
       "    if (force === true) {\n",
       "        display_loaded();\n",
       "      }} else if (Date.now() < root._bokeh_timeout) {\n",
       "      setTimeout(run_inline_js, 100);\n",
       "    } else if (!root._bokeh_failed_load) {\n",
       "      console.log(\"Bokeh: BokehJS failed to load within specified timeout.\");\n",
       "      root._bokeh_failed_load = true;\n",
       "    } else if (force !== true) {\n",
       "      var cell = $(document.getElementById(\"2565\")).parents('.cell').data().cell;\n",
       "      cell.output_area.append_execute_result(NB_LOAD_WARNING)\n",
       "    }\n",
       "\n",
       "  }\n",
       "\n",
       "  if (root._bokeh_is_loading === 0) {\n",
       "    console.debug(\"Bokeh: BokehJS loaded, going straight to plotting\");\n",
       "    run_inline_js();\n",
       "  } else {\n",
       "    load_libs(css_urls, js_urls, function() {\n",
       "      console.debug(\"Bokeh: BokehJS plotting callback run at\", now());\n",
       "      run_inline_js();\n",
       "    });\n",
       "  }\n",
       "}(window));"
      ],
      "application/vnd.bokehjs_load.v0+json": "\n(function(root) {\n  function now() {\n    return new Date();\n  }\n\n  var force = true;\n\n  if (typeof root._bokeh_onload_callbacks === \"undefined\" || force === true) {\n    root._bokeh_onload_callbacks = [];\n    root._bokeh_is_loading = undefined;\n  }\n\n  \n\n  \n  if (typeof (root._bokeh_timeout) === \"undefined\" || force === true) {\n    root._bokeh_timeout = Date.now() + 5000;\n    root._bokeh_failed_load = false;\n  }\n\n  var NB_LOAD_WARNING = {'data': {'text/html':\n     \"<div style='background-color: #fdd'>\\n\"+\n     \"<p>\\n\"+\n     \"BokehJS does not appear to have successfully loaded. If loading BokehJS from CDN, this \\n\"+\n     \"may be due to a slow or bad network connection. Possible fixes:\\n\"+\n     \"</p>\\n\"+\n     \"<ul>\\n\"+\n     \"<li>re-rerun `output_notebook()` to attempt to load from CDN again, or</li>\\n\"+\n     \"<li>use INLINE resources instead, as so:</li>\\n\"+\n     \"</ul>\\n\"+\n     \"<code>\\n\"+\n     \"from bokeh.resources import INLINE\\n\"+\n     \"output_notebook(resources=INLINE)\\n\"+\n     \"</code>\\n\"+\n     \"</div>\"}};\n\n  function display_loaded() {\n    var el = document.getElementById(\"2565\");\n    if (el != null) {\n      el.textContent = \"BokehJS is loading...\";\n    }\n    if (root.Bokeh !== undefined) {\n      if (el != null) {\n        el.textContent = \"BokehJS \" + root.Bokeh.version + \" successfully loaded.\";\n      }\n    } else if (Date.now() < root._bokeh_timeout) {\n      setTimeout(display_loaded, 100)\n    }\n  }\n\n\n  function run_callbacks() {\n    try {\n      root._bokeh_onload_callbacks.forEach(function(callback) {\n        if (callback != null)\n          callback();\n      });\n    } finally {\n      delete root._bokeh_onload_callbacks\n    }\n    console.debug(\"Bokeh: all callbacks have finished\");\n  }\n\n  function load_libs(css_urls, js_urls, callback) {\n    if (css_urls == null) css_urls = [];\n    if (js_urls == null) js_urls = [];\n\n    root._bokeh_onload_callbacks.push(callback);\n    if (root._bokeh_is_loading > 0) {\n      console.debug(\"Bokeh: BokehJS is being loaded, scheduling callback at\", now());\n      return null;\n    }\n    if (js_urls == null || js_urls.length === 0) {\n      run_callbacks();\n      return null;\n    }\n    console.debug(\"Bokeh: BokehJS not loaded, scheduling load and callback at\", now());\n    root._bokeh_is_loading = css_urls.length + js_urls.length;\n\n    function on_load() {\n      root._bokeh_is_loading--;\n      if (root._bokeh_is_loading === 0) {\n        console.debug(\"Bokeh: all BokehJS libraries/stylesheets loaded\");\n        run_callbacks()\n      }\n    }\n\n    function on_error() {\n      console.error(\"failed to load \" + url);\n    }\n\n    for (var i = 0; i < css_urls.length; i++) {\n      var url = css_urls[i];\n      const element = document.createElement(\"link\");\n      element.onload = on_load;\n      element.onerror = on_error;\n      element.rel = \"stylesheet\";\n      element.type = \"text/css\";\n      element.href = url;\n      console.debug(\"Bokeh: injecting link tag for BokehJS stylesheet: \", url);\n      document.body.appendChild(element);\n    }\n\n    const hashes = {\"https://cdn.bokeh.org/bokeh/release/bokeh-2.0.2.min.js\": \"ufR9RFnRs6lniiaFvtJziE0YeidtAgBRH6ux2oUItHw5WTvE1zuk9uzhUU/FJXDp\", \"https://cdn.bokeh.org/bokeh/release/bokeh-widgets-2.0.2.min.js\": \"8QM/PGWBT+IssZuRcDcjzwIh1mkOmJSoNMmyYDZbCfXJg3Ap1lEvdVgFuSAwhb/J\", \"https://cdn.bokeh.org/bokeh/release/bokeh-tables-2.0.2.min.js\": \"Jm8cH3Rg0P6UeZhVY5cLy1WzKajUT9KImCY+76hEqrcJt59/d8GPvFHjCkYgnSIn\", \"https://cdn.bokeh.org/bokeh/release/bokeh-gl-2.0.2.min.js\": \"Ozhzj+SI7ywm74aOI/UajcWz+C0NjsPunEVyVIrxzYkB+jA+2tUw8x5xJCbVtK5I\"};\n\n    for (var i = 0; i < js_urls.length; i++) {\n      var url = js_urls[i];\n      var element = document.createElement('script');\n      element.onload = on_load;\n      element.onerror = on_error;\n      element.async = false;\n      element.src = url;\n      if (url in hashes) {\n        element.crossOrigin = \"anonymous\";\n        element.integrity = \"sha384-\" + hashes[url];\n      }\n      console.debug(\"Bokeh: injecting script tag for BokehJS library: \", url);\n      document.head.appendChild(element);\n    }\n  };\n\n  function inject_raw_css(css) {\n    const element = document.createElement(\"style\");\n    element.appendChild(document.createTextNode(css));\n    document.body.appendChild(element);\n  }\n\n  \n  var js_urls = [\"https://cdn.bokeh.org/bokeh/release/bokeh-2.0.2.min.js\", \"https://cdn.bokeh.org/bokeh/release/bokeh-widgets-2.0.2.min.js\", \"https://cdn.bokeh.org/bokeh/release/bokeh-tables-2.0.2.min.js\", \"https://cdn.bokeh.org/bokeh/release/bokeh-gl-2.0.2.min.js\"];\n  var css_urls = [];\n  \n\n  var inline_js = [\n    function(Bokeh) {\n      Bokeh.set_log_level(\"info\");\n    },\n    function(Bokeh) {\n    \n    \n    }\n  ];\n\n  function run_inline_js() {\n    \n    if (root.Bokeh !== undefined || force === true) {\n      \n    for (var i = 0; i < inline_js.length; i++) {\n      inline_js[i].call(root, root.Bokeh);\n    }\n    if (force === true) {\n        display_loaded();\n      }} else if (Date.now() < root._bokeh_timeout) {\n      setTimeout(run_inline_js, 100);\n    } else if (!root._bokeh_failed_load) {\n      console.log(\"Bokeh: BokehJS failed to load within specified timeout.\");\n      root._bokeh_failed_load = true;\n    } else if (force !== true) {\n      var cell = $(document.getElementById(\"2565\")).parents('.cell').data().cell;\n      cell.output_area.append_execute_result(NB_LOAD_WARNING)\n    }\n\n  }\n\n  if (root._bokeh_is_loading === 0) {\n    console.debug(\"Bokeh: BokehJS loaded, going straight to plotting\");\n    run_inline_js();\n  } else {\n    load_libs(css_urls, js_urls, function() {\n      console.debug(\"Bokeh: BokehJS plotting callback run at\", now());\n      run_inline_js();\n    });\n  }\n}(window));"
     },
     "metadata": {},
     "output_type": "display_data"
    }
   ],
   "source": [
    "import bokeh.io\n",
    "from bokeh.plotting import figure, output_notebook, show\n",
    "# this is here only for completeness to clarify where\n",
    "# the methods are nested (you probably already imported this earlier)\n",
    "\n",
    "\n",
    "bokeh.io.reset_output()\n",
    "bokeh.io.output_notebook()"
   ]
  },
  {
   "cell_type": "code",
   "execution_count": 543,
   "metadata": {
    "Collapsed": "false"
   },
   "outputs": [
    {
     "data": {
      "text/html": [
       "\n",
       "\n",
       "\n",
       "\n",
       "\n",
       "\n",
       "  <div class=\"bk-root\" id=\"9ea19454-8201-49f8-8202-96971f8c5b51\" data-root-id=\"6998\"></div>\n"
      ]
     },
     "metadata": {},
     "output_type": "display_data"
    },
    {
     "data": {
      "application/javascript": [
       "(function(root) {\n",
       "  function embed_document(root) {\n",
       "    \n",
       "  var docs_json = {\"cd0a7c76-07b3-4752-9472-657ee05ed271\":{\"roots\":{\"references\":[{\"attributes\":{\"below\":[{\"id\":\"7009\"}],\"center\":[{\"id\":\"7012\"},{\"id\":\"7016\"},{\"id\":\"7042\"}],\"left\":[{\"id\":\"7013\"}],\"plot_height\":500,\"plot_width\":800,\"renderers\":[{\"id\":\"7034\"},{\"id\":\"7047\"},{\"id\":\"7061\"},{\"id\":\"7076\"},{\"id\":\"7093\"},{\"id\":\"7112\"},{\"id\":\"7133\"},{\"id\":\"7156\"},{\"id\":\"7181\"},{\"id\":\"7208\"},{\"id\":\"7237\"},{\"id\":\"7268\"},{\"id\":\"7301\"},{\"id\":\"7336\"},{\"id\":\"7373\"},{\"id\":\"7412\"},{\"id\":\"7453\"},{\"id\":\"7496\"}],\"title\":{\"id\":\"6999\"},\"toolbar\":{\"id\":\"7024\"},\"x_range\":{\"id\":\"7001\"},\"x_scale\":{\"id\":\"7005\"},\"y_range\":{\"id\":\"7003\"},\"y_scale\":{\"id\":\"7007\"}},\"id\":\"6998\",\"subtype\":\"Figure\",\"type\":\"Plot\"},{\"attributes\":{},\"id\":\"7005\",\"type\":\"LinearScale\"},{\"attributes\":{\"data_source\":{\"id\":\"7178\"},\"glyph\":{\"id\":\"7179\"},\"hover_glyph\":null,\"muted_glyph\":null,\"nonselection_glyph\":{\"id\":\"7180\"},\"selection_glyph\":null,\"view\":{\"id\":\"7182\"}},\"id\":\"7181\",\"type\":\"GlyphRenderer\"},{\"attributes\":{\"data_source\":{\"id\":\"7493\"},\"glyph\":{\"id\":\"7494\"},\"hover_glyph\":null,\"muted_glyph\":null,\"nonselection_glyph\":{\"id\":\"7495\"},\"selection_glyph\":null,\"view\":{\"id\":\"7497\"}},\"id\":\"7496\",\"type\":\"GlyphRenderer\"},{\"attributes\":{\"fill_alpha\":{\"value\":0.1},\"fill_color\":{\"value\":\"red\"},\"line_alpha\":{\"value\":0.1},\"line_color\":{\"value\":\"#1f77b4\"},\"x\":{\"field\":\"x\"},\"y\":{\"field\":\"y\"}},\"id\":\"7207\",\"type\":\"Scatter\"},{\"attributes\":{\"source\":{\"id\":\"7493\"}},\"id\":\"7497\",\"type\":\"CDSView\"},{\"attributes\":{\"data\":{\"x\":{\"__ndarray__\":\"AAAAAAAAAACSN2u0yGnAP5I3a7TIadA/W9OgDq2e2D+SN2u0yGngP3YFhuE6hOQ/W9OgDq2e6D9Aobs7H7nsP5I3a7TIafA/hJ74ygF38j92BYbhOoT0P2lsE/hzkfY/W9OgDq2e+D9NOi4l5qv6P0Chuzsfufw/MghJUljG/j+SN2u0yGkAQAvrsT9lcAFAhJ74ygF3AkD9UT9Wnn0DQHYFhuE6hARA8LjMbNeKBUBpbBP4c5EGQOIfWoMQmAdAW9OgDq2eCEDUhueZSaUJQE06LiXmqwpAxu10sIKyC0BAobs7H7kMQLlUAse7vw1AMghJUljGDkCru4/d9MwPQJI3a7TIaRBAT5EO+hbtEEAL67E/ZXARQMhEVYWz8xFAhJ74ygF3EkBB+JsQUPoSQP1RP1aefRNAuqvim+wAFEB2BYbhOoQUQDNfKSeJBxVA8LjMbNeKFUCsEnCyJQ4WQGlsE/hzkRZAJca2PcIUF0DiH1qDEJgXQJ55/cheGxhAW9OgDq2eGEAYLURU+yEZQA==\",\"dtype\":\"float64\",\"shape\":[50]},\"y\":{\"__ndarray__\":\"K3KIuDmV7D+H5nyy9XXsP2sqAc9wJuw/CSTpxke46z9irVz0xjjrP+se7nHBseo/gkCnj0gq6j8TLMDvRafpPyvCxPr6K+k/FD6WoGi66D8ENYJ5olPoPxaazU8Q+Oc/WWpH7aCn5z+sTJPD8GHnPxqsYLNmJuc/fB+q4Ej05j8uI38xy8rmP25AD9IYqeY/ogCW61mO5j/iTOWstnnmPxGcfd5YauY/ZzrWlW1f5j8E6rRRKVjmPzmqc9LRU+Y/JwERM9FR5j8nAREz0VHmPzmqc9LRU+Y/BOq0USlY5j9oOtaVbV/mPxGcfd5YauY/4kzlrLZ55j+hAJbrWY7mP21AD9IYqeY/LiN/McvK5j96H6rgSPTmPxqsYLNmJuc/rUyTw/Bh5z9YakftoKfnPxSazU8Q+Oc/BDWCeaJT6D8TPpagaLroPynCxPr6K+k/EizA70Wn6T9/QKePSCrqP+ge7nHBseo/YK1c9MY46z8LJOnGR7jrP2wqAc9wJuw/h+Z8svV17D8qcoi4OZXsPw==\",\"dtype\":\"float64\",\"shape\":[50]}},\"selected\":{\"id\":\"7295\"},\"selection_policy\":{\"id\":\"7296\"}},\"id\":\"7234\",\"type\":\"ColumnDataSource\"},{\"attributes\":{},\"id\":\"7007\",\"type\":\"LinearScale\"},{\"attributes\":{},\"id\":\"7785\",\"type\":\"Selection\"},{\"attributes\":{\"source\":{\"id\":\"7178\"}},\"id\":\"7182\",\"type\":\"CDSView\"},{\"attributes\":{\"axis_label\":\"x\",\"formatter\":{\"id\":\"7040\"},\"ticker\":{\"id\":\"7010\"}},\"id\":\"7009\",\"type\":\"LinearAxis\"},{\"attributes\":{},\"id\":\"7202\",\"type\":\"Selection\"},{\"attributes\":{},\"id\":\"7535\",\"type\":\"Selection\"},{\"attributes\":{\"axis\":{\"id\":\"7013\"},\"dimension\":1,\"ticker\":null},\"id\":\"7016\",\"type\":\"Grid\"},{\"attributes\":{\"fill_color\":{\"value\":\"red\"},\"line_color\":{\"value\":\"#1f77b4\"},\"x\":{\"field\":\"x\"},\"y\":{\"field\":\"y\"}},\"id\":\"7494\",\"type\":\"Scatter\"},{\"attributes\":{},\"id\":\"7010\",\"type\":\"BasicTicker\"},{\"attributes\":{},\"id\":\"7203\",\"type\":\"UnionRenderers\"},{\"attributes\":{},\"id\":\"7536\",\"type\":\"UnionRenderers\"},{\"attributes\":{\"axis\":{\"id\":\"7009\"},\"ticker\":null},\"id\":\"7012\",\"type\":\"Grid\"},{\"attributes\":{},\"id\":\"7014\",\"type\":\"BasicTicker\"},{\"attributes\":{\"axis_label\":\"y\",\"formatter\":{\"id\":\"7038\"},\"ticker\":{\"id\":\"7014\"}},\"id\":\"7013\",\"type\":\"LinearAxis\"},{\"attributes\":{\"data\":{\"x\":{\"__ndarray__\":\"AAAAAAAAAACSN2u0yGnAP5I3a7TIadA/W9OgDq2e2D+SN2u0yGngP3YFhuE6hOQ/W9OgDq2e6D9Aobs7H7nsP5I3a7TIafA/hJ74ygF38j92BYbhOoT0P2lsE/hzkfY/W9OgDq2e+D9NOi4l5qv6P0Chuzsfufw/MghJUljG/j+SN2u0yGkAQAvrsT9lcAFAhJ74ygF3AkD9UT9Wnn0DQHYFhuE6hARA8LjMbNeKBUBpbBP4c5EGQOIfWoMQmAdAW9OgDq2eCEDUhueZSaUJQE06LiXmqwpAxu10sIKyC0BAobs7H7kMQLlUAse7vw1AMghJUljGDkCru4/d9MwPQJI3a7TIaRBAT5EO+hbtEEAL67E/ZXARQMhEVYWz8xFAhJ74ygF3EkBB+JsQUPoSQP1RP1aefRNAuqvim+wAFEB2BYbhOoQUQDNfKSeJBxVA8LjMbNeKFUCsEnCyJQ4WQGlsE/hzkRZAJca2PcIUF0DiH1qDEJgXQJ55/cheGxhAW9OgDq2eGEAYLURU+yEZQA==\",\"dtype\":\"float64\",\"shape\":[50]},\"y\":{\"__ndarray__\":\"tVuCzX667z+v3bUsfpLvP+J6TW7UKe8/E39CL/WU7j9wOKyFIOTtP9BLlW5XJO0/21/8u6Bf7D8SkxQbi53rPyUhiqiP4+o/w9tN1XQ16j8DoaQDpJXpP7fLKbNuBek/3CT431+F6D+HuW0LXxXoP7sssI/ltOc/snYPsSRj5z/VAlxKER/nPy+4R/iG5+Y/n4GwI0i75j+yhVlbDJnmP9ROiXR+f+Y/b0HnO1Jt5j8NvaGzNGHmP+v3AvT4WeY/LvfrEKJW5j8v9+sQolbmP+b3AvT4WeY/Db2hszRh5j9vQec7Um3mP9VOiXR+f+Y/soVZWwyZ5j+fgbAjSLvmPzW4R/iG5+Y/1QJcShEf5z+ydg+xJGPnP7sssI/ltOc/h7ltC18V6D/aJPjfX4XoP7zLKbNuBek/A6GkA6SV6T+/203VdDXqPychiqiP4+o/EJMUG4ud6z/bX/y7oF/sP89LlW5XJO0/azishSDk7T8Tf0Iv9ZTuP+J6TW7UKe8/q921LH6S7z+7W4LNfrrvPw==\",\"dtype\":\"float64\",\"shape\":[50]}},\"selected\":{\"id\":\"7262\"},\"selection_policy\":{\"id\":\"7263\"}},\"id\":\"7205\",\"type\":\"ColumnDataSource\"},{\"attributes\":{},\"id\":\"7786\",\"type\":\"UnionRenderers\"},{\"attributes\":{\"data\":{\"x\":{\"__ndarray__\":\"AAAAAAAAAACSN2u0yGnAP5I3a7TIadA/W9OgDq2e2D+SN2u0yGngP3YFhuE6hOQ/W9OgDq2e6D9Aobs7H7nsP5I3a7TIafA/hJ74ygF38j92BYbhOoT0P2lsE/hzkfY/W9OgDq2e+D9NOi4l5qv6P0Chuzsfufw/MghJUljG/j+SN2u0yGkAQAvrsT9lcAFAhJ74ygF3AkD9UT9Wnn0DQHYFhuE6hARA8LjMbNeKBUBpbBP4c5EGQOIfWoMQmAdAW9OgDq2eCEDUhueZSaUJQE06LiXmqwpAxu10sIKyC0BAobs7H7kMQLlUAse7vw1AMghJUljGDkCru4/d9MwPQJI3a7TIaRBAT5EO+hbtEEAL67E/ZXARQMhEVYWz8xFAhJ74ygF3EkBB+JsQUPoSQP1RP1aefRNAuqvim+wAFEB2BYbhOoQUQDNfKSeJBxVA8LjMbNeKFUCsEnCyJQ4WQGlsE/hzkRZAJca2PcIUF0DiH1qDEJgXQJ55/cheGxhAW9OgDq2eGEAYLURU+yEZQA==\",\"dtype\":\"float64\",\"shape\":[50]},\"y\":{\"__ndarray__\":\"XY/C9Shc9z/RpOaBQDL3P4asaKy7ufY/Yqoop0H79T/R5n1vZQD1P0VlCKFh0/M/2MbE9NJ+8j+qfioBcw3xP5xZNY+pE+8/cZzDFUn86z88lyal2OfoP1tgtsC85+U/iJ8xcE0L4z8zTkhmiV/gPxzMh7K13ds/XJj9rd6B1z9eGEQwR7XTPzCi4WUIfNA/Iu3UzpCpyz/dGeKLLXLHPwoWHzYAPMQ/aUlwOtPpwT+ajb3UsFnAP9707fKQ0b4/ya8qfmvyvT/Mryp+a/K9P9707fKQ0b4/mI291LBZwD9pSXA60+nBPwYWHzYAPMQ/2Bniiy1yxz8X7dTOkKnLPyyi4WUIfNA/XBhEMEe10z9WmP2t3oHXPxbMh7K13ds/Lk5IZolf4D+FnzFwTQvjP1RgtsC85+U/N5cmpdjn6D9onMMVSfzrP5ZZNY+pE+8/qX4qAXMN8T/UxsT00n7yP0JlCKFh0/M/zuZ9b2UA9T9gqiinQfv1P4isaKy7ufY/0qTmgUAy9z9dj8L1KFz3Pw==\",\"dtype\":\"float64\",\"shape\":[50]}},\"selected\":{\"id\":\"7087\"},\"selection_policy\":{\"id\":\"7088\"}},\"id\":\"7058\",\"type\":\"ColumnDataSource\"},{\"attributes\":{\"source\":{\"id\":\"7031\"}},\"id\":\"7035\",\"type\":\"CDSView\"},{\"attributes\":{},\"id\":\"7262\",\"type\":\"Selection\"},{\"attributes\":{\"data_source\":{\"id\":\"7205\"},\"glyph\":{\"id\":\"7206\"},\"hover_glyph\":null,\"muted_glyph\":null,\"nonselection_glyph\":{\"id\":\"7207\"},\"selection_glyph\":null,\"view\":{\"id\":\"7209\"}},\"id\":\"7208\",\"type\":\"GlyphRenderer\"},{\"attributes\":{\"active_drag\":\"auto\",\"active_inspect\":\"auto\",\"active_multi\":null,\"active_scroll\":\"auto\",\"active_tap\":\"auto\",\"tools\":[{\"id\":\"7017\"},{\"id\":\"7018\"},{\"id\":\"7019\"},{\"id\":\"7020\"},{\"id\":\"7021\"},{\"id\":\"7022\"}]},\"id\":\"7024\",\"type\":\"Toolbar\"},{\"attributes\":{},\"id\":\"7231\",\"type\":\"Selection\"},{\"attributes\":{\"source\":{\"id\":\"7205\"}},\"id\":\"7209\",\"type\":\"CDSView\"},{\"attributes\":{\"line_alpha\":0.1,\"line_color\":\"blue\",\"line_width\":2,\"x\":{\"field\":\"x\"},\"y\":{\"field\":\"y\"}},\"id\":\"7033\",\"type\":\"Line\"},{\"attributes\":{\"fill_alpha\":{\"value\":0.1},\"fill_color\":{\"value\":\"red\"},\"line_alpha\":{\"value\":0.1},\"line_color\":{\"value\":\"#1f77b4\"},\"x\":{\"field\":\"x\"},\"y\":{\"field\":\"y\"}},\"id\":\"7046\",\"type\":\"Scatter\"},{\"attributes\":{},\"id\":\"7017\",\"type\":\"PanTool\"},{\"attributes\":{},\"id\":\"7232\",\"type\":\"UnionRenderers\"},{\"attributes\":{},\"id\":\"7018\",\"type\":\"WheelZoomTool\"},{\"attributes\":{\"data_source\":{\"id\":\"7234\"},\"glyph\":{\"id\":\"7235\"},\"hover_glyph\":null,\"muted_glyph\":null,\"nonselection_glyph\":{\"id\":\"7236\"},\"selection_glyph\":null,\"view\":{\"id\":\"7238\"}},\"id\":\"7237\",\"type\":\"GlyphRenderer\"},{\"attributes\":{\"overlay\":{\"id\":\"7023\"}},\"id\":\"7019\",\"type\":\"BoxZoomTool\"},{\"attributes\":{\"line_color\":\"blue\",\"line_width\":2,\"x\":{\"field\":\"x\"},\"y\":{\"field\":\"y\"}},\"id\":\"7235\",\"type\":\"Line\"},{\"attributes\":{},\"id\":\"7020\",\"type\":\"SaveTool\"},{\"attributes\":{\"source\":{\"id\":\"7234\"}},\"id\":\"7238\",\"type\":\"CDSView\"},{\"attributes\":{\"line_alpha\":0.1,\"line_color\":\"blue\",\"line_width\":2,\"x\":{\"field\":\"x\"},\"y\":{\"field\":\"y\"}},\"id\":\"7236\",\"type\":\"Line\"},{\"attributes\":{},\"id\":\"7021\",\"type\":\"ResetTool\"},{\"attributes\":{\"fill_color\":{\"value\":\"red\"},\"line_color\":{\"value\":\"#1f77b4\"},\"x\":{\"field\":\"x\"},\"y\":{\"field\":\"y\"}},\"id\":\"7334\",\"type\":\"Scatter\"},{\"attributes\":{\"items\":[{\"id\":\"7043\"},{\"id\":\"7057\"}]},\"id\":\"7042\",\"type\":\"Legend\"},{\"attributes\":{},\"id\":\"7022\",\"type\":\"HelpTool\"},{\"attributes\":{\"fill_alpha\":{\"value\":0.1},\"fill_color\":{\"value\":\"red\"},\"line_alpha\":{\"value\":0.1},\"line_color\":{\"value\":\"#1f77b4\"},\"x\":{\"field\":\"x\"},\"y\":{\"field\":\"y\"}},\"id\":\"7267\",\"type\":\"Scatter\"},{\"attributes\":{\"line_color\":\"blue\",\"line_width\":2,\"x\":{\"field\":\"x\"},\"y\":{\"field\":\"y\"}},\"id\":\"7091\",\"type\":\"Line\"},{\"attributes\":{\"data\":{\"x\":{\"__ndarray__\":\"AAAAAAAAAACSN2u0yGnAP5I3a7TIadA/W9OgDq2e2D+SN2u0yGngP3YFhuE6hOQ/W9OgDq2e6D9Aobs7H7nsP5I3a7TIafA/hJ74ygF38j92BYbhOoT0P2lsE/hzkfY/W9OgDq2e+D9NOi4l5qv6P0Chuzsfufw/MghJUljG/j+SN2u0yGkAQAvrsT9lcAFAhJ74ygF3AkD9UT9Wnn0DQHYFhuE6hARA8LjMbNeKBUBpbBP4c5EGQOIfWoMQmAdAW9OgDq2eCEDUhueZSaUJQE06LiXmqwpAxu10sIKyC0BAobs7H7kMQLlUAse7vw1AMghJUljGDkCru4/d9MwPQJI3a7TIaRBAT5EO+hbtEEAL67E/ZXARQMhEVYWz8xFAhJ74ygF3EkBB+JsQUPoSQP1RP1aefRNAuqvim+wAFEB2BYbhOoQUQDNfKSeJBxVA8LjMbNeKFUCsEnCyJQ4WQGlsE/hzkRZAJca2PcIUF0DiH1qDEJgXQJ55/cheGxhAW9OgDq2eGEAYLURU+yEZQA==\",\"dtype\":\"float64\",\"shape\":[50]},\"y\":{\"__ndarray__\":\"L0dCZzGV7D/jKCz7ynXsP/ydqDn6Jew/AllQS5O36z9ogyRM4zfrP+040DS5sOo/A9z3hiIp6j9TcGwfCqbpP7ejbbquKuk/dU5vEQ656D+3wyTaPlLoP4eOtSej9uc/eEdOxS+m5z+uxMKjemDnPyD7nxzvJOc/f8J9M9Dy5j8cIpQ7T8nmP9tJVpidp+Y/W10qk96M5j9jLxhiPHjmP5NYUjfcaOY/vSHb9vRd5j/gfU0ZsFbmPwa9+RRZUuY/CppX8VhQ5j8KmlfxWFDmPwG9+RRZUuY/4H1NGbBW5j+9Idv29F3mP5NYUjfcaOY/Yy8YYjx45j9bXSqT3ozmP+JJVpidp+Y/HCKUO0/J5j9/wn0z0PLmPyD7nxzvJOc/rsTCo3pg5z93R07FL6bnP4mOtSej9uc/t8Mk2j5S6D9wTm8RDrnoP7qjbbquKuk/UXBsHwqm6T8D3PeGIinqP+040DS5sOo/ZYMkTOM36z8CWVBLk7frP/+dqDn6Jew/4Cgs+8p17D8zR0JnMZXsPw==\",\"dtype\":\"float64\",\"shape\":[50]}},\"selected\":{\"id\":\"7330\"},\"selection_policy\":{\"id\":\"7331\"}},\"id\":\"7265\",\"type\":\"ColumnDataSource\"},{\"attributes\":{\"line_alpha\":0.1,\"line_color\":\"blue\",\"line_width\":2,\"x\":{\"field\":\"x\"},\"y\":{\"field\":\"y\"}},\"id\":\"7060\",\"type\":\"Line\"},{\"attributes\":{},\"id\":\"7263\",\"type\":\"UnionRenderers\"},{\"attributes\":{\"line_color\":\"blue\",\"line_width\":2,\"x\":{\"field\":\"x\"},\"y\":{\"field\":\"y\"}},\"id\":\"7032\",\"type\":\"Line\"},{\"attributes\":{\"fill_color\":{\"value\":\"red\"},\"line_color\":{\"value\":\"#1f77b4\"},\"x\":{\"field\":\"x\"},\"y\":{\"field\":\"y\"}},\"id\":\"7266\",\"type\":\"Scatter\"},{\"attributes\":{\"label\":{\"value\":\"Interpolation\"},\"renderers\":[{\"id\":\"7047\"},{\"id\":\"7076\"},{\"id\":\"7112\"},{\"id\":\"7156\"},{\"id\":\"7208\"},{\"id\":\"7268\"},{\"id\":\"7336\"},{\"id\":\"7412\"},{\"id\":\"7496\"}]},\"id\":\"7057\",\"type\":\"LegendItem\"},{\"attributes\":{},\"id\":\"7054\",\"type\":\"Selection\"},{\"attributes\":{\"source\":{\"id\":\"7044\"}},\"id\":\"7048\",\"type\":\"CDSView\"},{\"attributes\":{\"source\":{\"id\":\"7298\"}},\"id\":\"7302\",\"type\":\"CDSView\"},{\"attributes\":{\"data_source\":{\"id\":\"7265\"},\"glyph\":{\"id\":\"7266\"},\"hover_glyph\":null,\"muted_glyph\":null,\"nonselection_glyph\":{\"id\":\"7267\"},\"selection_glyph\":null,\"view\":{\"id\":\"7269\"}},\"id\":\"7268\",\"type\":\"GlyphRenderer\"},{\"attributes\":{\"fill_color\":{\"value\":\"red\"},\"line_color\":{\"value\":\"#1f77b4\"},\"x\":{\"field\":\"x\"},\"y\":{\"field\":\"y\"}},\"id\":\"7045\",\"type\":\"Scatter\"},{\"attributes\":{},\"id\":\"7295\",\"type\":\"Selection\"},{\"attributes\":{\"source\":{\"id\":\"7265\"}},\"id\":\"7269\",\"type\":\"CDSView\"},{\"attributes\":{\"data\":{\"x\":{\"__ndarray__\":\"AAAAAAAAAACSN2u0yGnAP5I3a7TIadA/W9OgDq2e2D+SN2u0yGngP3YFhuE6hOQ/W9OgDq2e6D9Aobs7H7nsP5I3a7TIafA/hJ74ygF38j92BYbhOoT0P2lsE/hzkfY/W9OgDq2e+D9NOi4l5qv6P0Chuzsfufw/MghJUljG/j+SN2u0yGkAQAvrsT9lcAFAhJ74ygF3AkD9UT9Wnn0DQHYFhuE6hARA8LjMbNeKBUBpbBP4c5EGQOIfWoMQmAdAW9OgDq2eCEDUhueZSaUJQE06LiXmqwpAxu10sIKyC0BAobs7H7kMQLlUAse7vw1AMghJUljGDkCru4/d9MwPQJI3a7TIaRBAT5EO+hbtEEAL67E/ZXARQMhEVYWz8xFAhJ74ygF3EkBB+JsQUPoSQP1RP1aefRNAuqvim+wAFEB2BYbhOoQUQDNfKSeJBxVA8LjMbNeKFUCsEnCyJQ4WQGlsE/hzkRZAJca2PcIUF0DiH1qDEJgXQJ55/cheGxhAW9OgDq2eGEAYLURU+yEZQA==\",\"dtype\":\"float64\",\"shape\":[50]},\"y\":{\"__ndarray__\":\"u8EG+voQ6j+TnrBldfjpPzHZ/rOgu+k/8nsXtHRp6T/nSt1uhQzpP7dFI/MjrOg/DPUd7DpN6D/iRRwR9vLnP9Vn5UVAn+c/U9bOyyFT5z+3gEbuBQ/nPwyqgwDu0uY/30NiOZae5j/Qvanwj3HmP33kE+xTS+Y/Oqdhwk4r5j+Yf4nZ6BDmP/DrMyaL++U/lQnPk6Hq5T8DDkndm93lP14JcaLt0+U/eFEstw7N5T8WPx0ZfcjlP7mii57CxeU/hfdLkoDE5T+F90uSgMTlP7qii57CxeU/Fj8dGX3I5T95USy3Ds3lP14JcaLt0+U/Aw5J3Zvd5T+VCc+ToerlP+/rMyaL++U/mH+J2egQ5j84p2HCTivmP37kE+xTS+Y/0L2p8I9x5j/eQ2I5lp7mPwqqgwDu0uY/uIBG7gUP5z9S1s7LIVPnP9Rn5UVAn+c/4kUcEfby5z8J9R3sOk3oP7VFI/MjrOg/5UrdboUM6T/0exe0dGnpPzLZ/rOgu+k/k56wZXX46T+7wQb6+hDqPw==\",\"dtype\":\"float64\",\"shape\":[50]}},\"selected\":{\"id\":\"7367\"},\"selection_policy\":{\"id\":\"7368\"}},\"id\":\"7298\",\"type\":\"ColumnDataSource\"},{\"attributes\":{\"bottom_units\":\"screen\",\"fill_alpha\":0.5,\"fill_color\":\"lightgrey\",\"left_units\":\"screen\",\"level\":\"overlay\",\"line_alpha\":1.0,\"line_color\":\"black\",\"line_dash\":[4,4],\"line_width\":2,\"render_mode\":\"css\",\"right_units\":\"screen\",\"top_units\":\"screen\"},\"id\":\"7023\",\"type\":\"BoxAnnotation\"},{\"attributes\":{},\"id\":\"7055\",\"type\":\"UnionRenderers\"},{\"attributes\":{},\"id\":\"7296\",\"type\":\"UnionRenderers\"},{\"attributes\":{\"data_source\":{\"id\":\"7298\"},\"glyph\":{\"id\":\"7299\"},\"hover_glyph\":null,\"muted_glyph\":null,\"nonselection_glyph\":{\"id\":\"7300\"},\"selection_glyph\":null,\"view\":{\"id\":\"7302\"}},\"id\":\"7301\",\"type\":\"GlyphRenderer\"},{\"attributes\":{\"label\":{\"value\":\"Temp.\"},\"renderers\":[{\"id\":\"7034\"},{\"id\":\"7061\"},{\"id\":\"7093\"},{\"id\":\"7133\"},{\"id\":\"7181\"},{\"id\":\"7237\"},{\"id\":\"7301\"},{\"id\":\"7373\"},{\"id\":\"7453\"}]},\"id\":\"7043\",\"type\":\"LegendItem\"},{\"attributes\":{},\"id\":\"7088\",\"type\":\"UnionRenderers\"},{\"attributes\":{\"line_color\":\"blue\",\"line_width\":2,\"x\":{\"field\":\"x\"},\"y\":{\"field\":\"y\"}},\"id\":\"7299\",\"type\":\"Line\"},{\"attributes\":{\"data_source\":{\"id\":\"7044\"},\"glyph\":{\"id\":\"7045\"},\"hover_glyph\":null,\"muted_glyph\":null,\"nonselection_glyph\":{\"id\":\"7046\"},\"selection_glyph\":null,\"view\":{\"id\":\"7048\"}},\"id\":\"7047\",\"type\":\"GlyphRenderer\"},{\"attributes\":{},\"id\":\"7038\",\"type\":\"BasicTickFormatter\"},{\"attributes\":{\"data_source\":{\"id\":\"7031\"},\"glyph\":{\"id\":\"7032\"},\"hover_glyph\":null,\"muted_glyph\":null,\"nonselection_glyph\":{\"id\":\"7033\"},\"selection_glyph\":null,\"view\":{\"id\":\"7035\"}},\"id\":\"7034\",\"type\":\"GlyphRenderer\"},{\"attributes\":{\"line_alpha\":0.1,\"line_color\":\"blue\",\"line_width\":2,\"x\":{\"field\":\"x\"},\"y\":{\"field\":\"y\"}},\"id\":\"7300\",\"type\":\"Line\"},{\"attributes\":{\"source\":{\"id\":\"7058\"}},\"id\":\"7062\",\"type\":\"CDSView\"},{\"attributes\":{\"data\":{\"x\":{\"__ndarray__\":\"AAAAAAAAAACSN2u0yGnAP5I3a7TIadA/W9OgDq2e2D+SN2u0yGngP3YFhuE6hOQ/W9OgDq2e6D9Aobs7H7nsP5I3a7TIafA/hJ74ygF38j92BYbhOoT0P2lsE/hzkfY/W9OgDq2e+D9NOi4l5qv6P0Chuzsfufw/MghJUljG/j+SN2u0yGkAQAvrsT9lcAFAhJ74ygF3AkD9UT9Wnn0DQHYFhuE6hARA8LjMbNeKBUBpbBP4c5EGQOIfWoMQmAdAW9OgDq2eCEDUhueZSaUJQE06LiXmqwpAxu10sIKyC0BAobs7H7kMQLlUAse7vw1AMghJUljGDkCru4/d9MwPQJI3a7TIaRBAT5EO+hbtEEAL67E/ZXARQMhEVYWz8xFAhJ74ygF3EkBB+JsQUPoSQP1RP1aefRNAuqvim+wAFEB2BYbhOoQUQDNfKSeJBxVA8LjMbNeKFUCsEnCyJQ4WQGlsE/hzkRZAJca2PcIUF0DiH1qDEJgXQJ55/cheGxhAW9OgDq2eGEAYLURU+yEZQA==\",\"dtype\":\"float64\",\"shape\":[50]},\"y\":{\"__ndarray__\":\"0s/be/MQ6j+r/tcHTfjpP2qYtsghu+k/T8V7ebpo6T+Vn5NyogvpPyQfLW8cq+g/h7zafxZM6D8AFJN0v/HnP1W+JIr4nec/sl8pBcxR5z+oVRLgqA3nP9/wA0KI0eY/lhz6qSyd5j8MyrJhIXDmP1lSkE/hSeY/AvFRR9wp5j+gMBTEcw/mPxaH2sIV+uU/0muUPirp5T+BQjwVJtzlP14pebN00uU/4gk/ppnL5T8leXSYB8flP5fk3QVNxOU/aeh+AQvD5T9p6H4BC8PlP5Lk3QVNxOU/JXl0mAfH5T/iCT+mmcvlP14pebN00uU/gUI8FSbc5T/Sa5Q+KunlPxuH2sIV+uU/oDAUxHMP5j8C8VFH3CnmP1lSkE/hSeY/DMqyYSFw5j+THPqpLJ3mP+DwA0KI0eY/qFUS4KgN5z+uXykFzFHnP1q+JIr4nec//xOTdL/x5z+HvNp/FkzoPyQfLW8cq+g/k5+TcqIL6T9PxXt5umjpP2uYtsghu+k/qv7XB0346T/Tz9t78xDqPw==\",\"dtype\":\"float64\",\"shape\":[50]}},\"selected\":{\"id\":\"7406\"},\"selection_policy\":{\"id\":\"7407\"}},\"id\":\"7333\",\"type\":\"ColumnDataSource\"},{\"attributes\":{},\"id\":\"7040\",\"type\":\"BasicTickFormatter\"},{\"attributes\":{\"data\":{\"x\":{\"__ndarray__\":\"AAAAAAAAAACSN2u0yGnAP5I3a7TIadA/W9OgDq2e2D+SN2u0yGngP3YFhuE6hOQ/W9OgDq2e6D9Aobs7H7nsP5I3a7TIafA/hJ74ygF38j92BYbhOoT0P2lsE/hzkfY/W9OgDq2e+D9NOi4l5qv6P0Chuzsfufw/MghJUljG/j+SN2u0yGkAQAvrsT9lcAFAhJ74ygF3AkD9UT9Wnn0DQHYFhuE6hARA8LjMbNeKBUBpbBP4c5EGQOIfWoMQmAdAW9OgDq2eCEDUhueZSaUJQE06LiXmqwpAxu10sIKyC0BAobs7H7kMQLlUAse7vw1AMghJUljGDkCru4/d9MwPQJI3a7TIaRBAT5EO+hbtEEAL67E/ZXARQMhEVYWz8xFAhJ74ygF3EkBB+JsQUPoSQP1RP1aefRNAuqvim+wAFEB2BYbhOoQUQDNfKSeJBxVA8LjMbNeKFUCsEnCyJQ4WQGlsE/hzkRZAJca2PcIUF0DiH1qDEJgXQJ55/cheGxhAW9OgDq2eGEAYLURU+yEZQA==\",\"dtype\":\"float64\",\"shape\":[50]},\"y\":{\"__ndarray__\":\"MzMzMzMz+z+LrfwgZf36P2eK1RXdXPo/cNZ93T1U+T+b1nXP3+f3PyrKP4u+HfY/4mAt0l/98z928W/os4/xP6U3rQTgve0/q9JVt8bs5z8F+RNbj8ThP9bPPio3vtY/+63Dyjldwz9M8cu/SXarv2gENU/aYtC/aBYrPyP33L/xFb/CYXvkv/2JvsGlF+q/SRgmQMg477/sY0m7nOTxv0RVkerk2vO/W7CiVP129b+e/PK5IbL2v4mRPGYlh/e/Jtnn8Ijy978l2efwiPL3v4iRPGYlh/e/n/zyuSGy9r9csKJU/Xb1v0ZVkerk2vO/8GNJu5zk8b9RGCZAyDjvvwKKvsGlF+q/9RW/wmF75L94Fis/I/fcv3AENU/aYtC/APLLv0l2q7/arcPKOV3DP77PPio3vtY//fgTW4/E4T+b0lW3xuznP5s3rQTgve0/dPFv6LOP8T/dYC3SX/3zPyfKP4u+HfY/ltZ1z9/n9z9u1n3dPVT5P2iK1RXdXPo/jK38IGX9+j80MzMzMzP7Pw==\",\"dtype\":\"float64\",\"shape\":[50]}},\"selected\":{\"id\":\"7054\"},\"selection_policy\":{\"id\":\"7055\"}},\"id\":\"7031\",\"type\":\"ColumnDataSource\"},{\"attributes\":{\"text\":\"Kernel Comparison\"},\"id\":\"6999\",\"type\":\"Title\"},{\"attributes\":{\"data_source\":{\"id\":\"7090\"},\"glyph\":{\"id\":\"7091\"},\"hover_glyph\":null,\"muted_glyph\":null,\"nonselection_glyph\":{\"id\":\"7092\"},\"selection_glyph\":null,\"view\":{\"id\":\"7094\"}},\"id\":\"7093\",\"type\":\"GlyphRenderer\"},{\"attributes\":{},\"id\":\"7330\",\"type\":\"Selection\"},{\"attributes\":{},\"id\":\"7331\",\"type\":\"UnionRenderers\"},{\"attributes\":{},\"id\":\"7001\",\"type\":\"DataRange1d\"},{\"attributes\":{\"source\":{\"id\":\"7090\"}},\"id\":\"7094\",\"type\":\"CDSView\"},{\"attributes\":{},\"id\":\"7003\",\"type\":\"DataRange1d\"},{\"attributes\":{\"data\":{\"x\":{\"__ndarray__\":\"AAAAAAAAAACSN2u0yGnAP5I3a7TIadA/W9OgDq2e2D+SN2u0yGngP3YFhuE6hOQ/W9OgDq2e6D9Aobs7H7nsP5I3a7TIafA/hJ74ygF38j92BYbhOoT0P2lsE/hzkfY/W9OgDq2e+D9NOi4l5qv6P0Chuzsfufw/MghJUljG/j+SN2u0yGkAQAvrsT9lcAFAhJ74ygF3AkD9UT9Wnn0DQHYFhuE6hARA8LjMbNeKBUBpbBP4c5EGQOIfWoMQmAdAW9OgDq2eCEDUhueZSaUJQE06LiXmqwpAxu10sIKyC0BAobs7H7kMQLlUAse7vw1AMghJUljGDkCru4/d9MwPQJI3a7TIaRBAT5EO+hbtEEAL67E/ZXARQMhEVYWz8xFAhJ74ygF3EkBB+JsQUPoSQP1RP1aefRNAuqvim+wAFEB2BYbhOoQUQDNfKSeJBxVA8LjMbNeKFUCsEnCyJQ4WQGlsE/hzkRZAJca2PcIUF0DiH1qDEJgXQJ55/cheGxhAW9OgDq2eGEAYLURU+yEZQA==\",\"dtype\":\"float64\",\"shape\":[50]},\"y\":{\"__ndarray__\":\"MzMzMzMz+z+LrfwgZf36P2eK1RXdXPo/cNZ93T1U+T+b1nXP3+f3PyrKP4u+HfY/4mAt0l/98z928W/os4/xP6U3rQTgve0/q9JVt8bs5z8F+RNbj8ThP9bPPio3vtY/+63Dyjldwz9M8cu/SXarv2gENU/aYtC/aBYrPyP33L/xFb/CYXvkv/2JvsGlF+q/SRgmQMg477/sY0m7nOTxv0RVkerk2vO/W7CiVP129b+e/PK5IbL2v4mRPGYlh/e/Jtnn8Ijy978l2efwiPL3v4iRPGYlh/e/n/zyuSGy9r9csKJU/Xb1v0ZVkerk2vO/8GNJu5zk8b9RGCZAyDjvvwKKvsGlF+q/9RW/wmF75L94Fis/I/fcv3AENU/aYtC/APLLv0l2q7/arcPKOV3DP77PPio3vtY//fgTW4/E4T+b0lW3xuznP5s3rQTgve0/dPFv6LOP8T/dYC3SX/3zPyfKP4u+HfY/ltZ1z9/n9z9u1n3dPVT5P2iK1RXdXPo/jK38IGX9+j80MzMzMzP7Pw==\",\"dtype\":\"float64\",\"shape\":[50]}},\"selected\":{\"id\":\"7070\"},\"selection_policy\":{\"id\":\"7071\"}},\"id\":\"7044\",\"type\":\"ColumnDataSource\"},{\"attributes\":{\"fill_alpha\":{\"value\":0.1},\"fill_color\":{\"value\":\"red\"},\"line_alpha\":{\"value\":0.1},\"line_color\":{\"value\":\"#1f77b4\"},\"x\":{\"field\":\"x\"},\"y\":{\"field\":\"y\"}},\"id\":\"7335\",\"type\":\"Scatter\"},{\"attributes\":{\"data\":{\"x\":{\"__ndarray__\":\"AAAAAAAAAACSN2u0yGnAP5I3a7TIadA/W9OgDq2e2D+SN2u0yGngP3YFhuE6hOQ/W9OgDq2e6D9Aobs7H7nsP5I3a7TIafA/hJ74ygF38j92BYbhOoT0P2lsE/hzkfY/W9OgDq2e+D9NOi4l5qv6P0Chuzsfufw/MghJUljG/j+SN2u0yGkAQAvrsT9lcAFAhJ74ygF3AkD9UT9Wnn0DQHYFhuE6hARA8LjMbNeKBUBpbBP4c5EGQOIfWoMQmAdAW9OgDq2eCEDUhueZSaUJQE06LiXmqwpAxu10sIKyC0BAobs7H7kMQLlUAse7vw1AMghJUljGDkCru4/d9MwPQJI3a7TIaRBAT5EO+hbtEEAL67E/ZXARQMhEVYWz8xFAhJ74ygF3EkBB+JsQUPoSQP1RP1aefRNAuqvim+wAFEB2BYbhOoQUQDNfKSeJBxVA8LjMbNeKFUCsEnCyJQ4WQGlsE/hzkRZAJca2PcIUF0DiH1qDEJgXQJ55/cheGxhAW9OgDq2eGEAYLURU+yEZQA==\",\"dtype\":\"float64\",\"shape\":[50]},\"y\":{\"__ndarray__\":\"GUqLPrRJ9D+HS0PNBin0P/x+CxcSzvM/eXARy85D8z9PHgx4sJTyPwkgWfqqyvE/kG9YLu3u8D+GBX8xwQnwP0P/D2zeRO4/owZHdU5+7D8NkRSBDMrqP4OGmDUbMOk/fyqMwX225z9e3ZYcR2HmP1PJeAjZMuU/sEB3jSAs5D/rJkyluUzjP/q1W7A2k+I/E/jfsUj94T/enk2I9YfhP5TZTQ6hL+E/yruM/1/w4D/nwVzvCcbgPzgVa7mprOA/BwoRp/Kg4D8IChGn8qDgPzcVa7mprOA/58Fc7wnG4D/Lu4z/X/DgP5bZTQ6hL+E/3Z5NiPWH4T8S+N+xSP3hP/q1W7A2k+I/6yZMpblM4z+rQHeNICzkP1DJeAjZMuU/XN2WHEdh5j97KozBfbbnP4KGmDUbMOk/DJEUgQzK6j+fBkd1Tn7sPz//D2zeRO4/hQV/McEJ8D+Qb1gu7e7wPwYgWfqqyvE/TR4MeLCU8j95cBHLzkPzP/x+CxcSzvM/h0tDzQYp9D8cSos+tEn0Pw==\",\"dtype\":\"float64\",\"shape\":[50]}},\"selected\":{\"id\":\"7150\"},\"selection_policy\":{\"id\":\"7151\"}},\"id\":\"7109\",\"type\":\"ColumnDataSource\"},{\"attributes\":{},\"id\":\"7406\",\"type\":\"Selection\"},{\"attributes\":{\"fill_color\":{\"value\":\"red\"},\"line_color\":{\"value\":\"#1f77b4\"},\"x\":{\"field\":\"x\"},\"y\":{\"field\":\"y\"}},\"id\":\"7074\",\"type\":\"Scatter\"},{\"attributes\":{},\"id\":\"7106\",\"type\":\"Selection\"},{\"attributes\":{\"data_source\":{\"id\":\"7058\"},\"glyph\":{\"id\":\"7059\"},\"hover_glyph\":null,\"muted_glyph\":null,\"nonselection_glyph\":{\"id\":\"7060\"},\"selection_glyph\":null,\"view\":{\"id\":\"7062\"}},\"id\":\"7061\",\"type\":\"GlyphRenderer\"},{\"attributes\":{\"line_alpha\":0.1,\"line_color\":\"blue\",\"line_width\":2,\"x\":{\"field\":\"x\"},\"y\":{\"field\":\"y\"}},\"id\":\"7092\",\"type\":\"Line\"},{\"attributes\":{\"line_color\":\"blue\",\"line_width\":2,\"x\":{\"field\":\"x\"},\"y\":{\"field\":\"y\"}},\"id\":\"7059\",\"type\":\"Line\"},{\"attributes\":{\"fill_color\":{\"value\":\"red\"},\"line_color\":{\"value\":\"#1f77b4\"},\"x\":{\"field\":\"x\"},\"y\":{\"field\":\"y\"}},\"id\":\"7206\",\"type\":\"Scatter\"},{\"attributes\":{\"data\":{\"x\":{\"__ndarray__\":\"AAAAAAAAAACSN2u0yGnAP5I3a7TIadA/W9OgDq2e2D+SN2u0yGngP3YFhuE6hOQ/W9OgDq2e6D9Aobs7H7nsP5I3a7TIafA/hJ74ygF38j92BYbhOoT0P2lsE/hzkfY/W9OgDq2e+D9NOi4l5qv6P0Chuzsfufw/MghJUljG/j+SN2u0yGkAQAvrsT9lcAFAhJ74ygF3AkD9UT9Wnn0DQHYFhuE6hARA8LjMbNeKBUBpbBP4c5EGQOIfWoMQmAdAW9OgDq2eCEDUhueZSaUJQE06LiXmqwpAxu10sIKyC0BAobs7H7kMQLlUAse7vw1AMghJUljGDkCru4/d9MwPQJI3a7TIaRBAT5EO+hbtEEAL67E/ZXARQMhEVYWz8xFAhJ74ygF3EkBB+JsQUPoSQP1RP1aefRNAuqvim+wAFEB2BYbhOoQUQDNfKSeJBxVA8LjMbNeKFUCsEnCyJQ4WQGlsE/hzkRZAJca2PcIUF0DiH1qDEJgXQJ55/cheGxhAW9OgDq2eGEAYLURU+yEZQA==\",\"dtype\":\"float64\",\"shape\":[50]},\"y\":{\"__ndarray__\":\"lTTSlJUN6D+IJuLlUvrnP6pfJwmfy+c/IRXBBfKN5z9sXn5smEnnP2qHCiX6A+c/FfjuFoDA5j9gMWp9NYHmP0JOP/w4R+Y/hIODmAsT5j8kpHeVx+TlP/ogHkxGvOU/1omoAzqZ5T+fd21YP3vlP+aqq7LoYeU/J/9rj8VM5T+D1FvXZjvlP4zFWyNhLeU/vPGyk00i5T+F3HPAyRnlP7Rb6EZ3E+U/ahuNlfsO5T9L/zzgAAzlPxbbGJM5CuU/fe12sWcJ5T987XaxZwnlPxfbGJM5CuU/S/884AAM5T9qG42V+w7lP7Rb6EZ3E+U/htxzwMkZ5T+88bKTTSLlP4zFWyNhLeU/g9Rb12Y75T8l/2uPxUzlP+iqq7LoYeU/n3dtWD975T/UiagDOpnlP/kgHkxGvOU/JaR3lcfk5T+Eg4OYCxPmP0FOP/w4R+Y/YDFqfTWB5j8T+O4WgMDmP2qHCiX6A+c/a15+bJhJ5z8jFcEF8o3nP6pfJwmfy+c/iCbi5VL65z+VNNKUlQ3oPw==\",\"dtype\":\"float64\",\"shape\":[50]}},\"selected\":{\"id\":\"7447\"},\"selection_policy\":{\"id\":\"7448\"}},\"id\":\"7370\",\"type\":\"ColumnDataSource\"},{\"attributes\":{\"data_source\":{\"id\":\"7333\"},\"glyph\":{\"id\":\"7334\"},\"hover_glyph\":null,\"muted_glyph\":null,\"nonselection_glyph\":{\"id\":\"7335\"},\"selection_glyph\":null,\"view\":{\"id\":\"7337\"}},\"id\":\"7336\",\"type\":\"GlyphRenderer\"},{\"attributes\":{},\"id\":\"7071\",\"type\":\"UnionRenderers\"},{\"attributes\":{\"data_source\":{\"id\":\"7130\"},\"glyph\":{\"id\":\"7131\"},\"hover_glyph\":null,\"muted_glyph\":null,\"nonselection_glyph\":{\"id\":\"7132\"},\"selection_glyph\":null,\"view\":{\"id\":\"7134\"}},\"id\":\"7133\",\"type\":\"GlyphRenderer\"},{\"attributes\":{},\"id\":\"7367\",\"type\":\"Selection\"},{\"attributes\":{\"data\":{\"x\":{\"__ndarray__\":\"AAAAAAAAAACSN2u0yGnAP5I3a7TIadA/W9OgDq2e2D+SN2u0yGngP3YFhuE6hOQ/W9OgDq2e6D9Aobs7H7nsP5I3a7TIafA/hJ74ygF38j92BYbhOoT0P2lsE/hzkfY/W9OgDq2e+D9NOi4l5qv6P0Chuzsfufw/MghJUljG/j+SN2u0yGkAQAvrsT9lcAFAhJ74ygF3AkD9UT9Wnn0DQHYFhuE6hARA8LjMbNeKBUBpbBP4c5EGQOIfWoMQmAdAW9OgDq2eCEDUhueZSaUJQE06LiXmqwpAxu10sIKyC0BAobs7H7kMQLlUAse7vw1AMghJUljGDkCru4/d9MwPQJI3a7TIaRBAT5EO+hbtEEAL67E/ZXARQMhEVYWz8xFAhJ74ygF3EkBB+JsQUPoSQP1RP1aefRNAuqvim+wAFEB2BYbhOoQUQDNfKSeJBxVA8LjMbNeKFUCsEnCyJQ4WQGlsE/hzkRZAJca2PcIUF0DiH1qDEJgXQJ55/cheGxhAW9OgDq2eGEAYLURU+yEZQA==\",\"dtype\":\"float64\",\"shape\":[50]},\"y\":{\"__ndarray__\":\"dN1l1CFc9z+xDO2ePjL3P8Qi4hGjufY/znmwTxz79T/xSvz8MQD1P1qff+Ai0/M/lasQZIh+8j8ogWKjHw3xPw3ogZbyEu8/QGWIkYP76z9Xo6sKCefoPyQeNArl5uU/bCXc+HEK4z9fNzTbrF7gP+qHp3UD3Ns/Kv+zUzeA1z9qqpK/sLPTP/yiHOaFetA/ehC9/Lemyz9Nlpjumm/HP5YQPoCnOcQ/KnGWE7XnwT8Izh0qyVfAPxN5JcMfzr4/BwkIzDfvvT8MCQjMN++9PxJ5JcMfzr4/B84dKslXwD8qcZYTtefBP5YQPoCnOcQ/SJaY7ppvxz9xEL38t6bLP/uiHOaFetA/aaqSv7Cz0z8g/7NTN4DXP+aHp3UD3Ns/Wzc026xe4D9oJdz4cQrjPx8eNArl5uU/U6OrCgnn6D82ZYiRg/vrPwrogZbyEu8/J4Fiox8N8T+UqxBkiH7yP1iff+Ai0/M/7kr8/DEA9T/LebBPHPv1P8Yi4hGjufY/sQztnj4y9z933WXUIVz3Pw==\",\"dtype\":\"float64\",\"shape\":[50]}},\"selected\":{\"id\":\"7106\"},\"selection_policy\":{\"id\":\"7107\"}},\"id\":\"7073\",\"type\":\"ColumnDataSource\"},{\"attributes\":{\"source\":{\"id\":\"7333\"}},\"id\":\"7337\",\"type\":\"CDSView\"},{\"attributes\":{},\"id\":\"7107\",\"type\":\"UnionRenderers\"},{\"attributes\":{},\"id\":\"7368\",\"type\":\"UnionRenderers\"},{\"attributes\":{\"fill_color\":{\"value\":\"red\"},\"line_color\":{\"value\":\"#1f77b4\"},\"x\":{\"field\":\"x\"},\"y\":{\"field\":\"y\"}},\"id\":\"7110\",\"type\":\"Scatter\"},{\"attributes\":{\"fill_alpha\":{\"value\":0.1},\"fill_color\":{\"value\":\"red\"},\"line_alpha\":{\"value\":0.1},\"line_color\":{\"value\":\"#1f77b4\"},\"x\":{\"field\":\"x\"},\"y\":{\"field\":\"y\"}},\"id\":\"7111\",\"type\":\"Scatter\"},{\"attributes\":{\"line_color\":\"blue\",\"line_width\":2,\"x\":{\"field\":\"x\"},\"y\":{\"field\":\"y\"}},\"id\":\"7371\",\"type\":\"Line\"},{\"attributes\":{\"data_source\":{\"id\":\"7370\"},\"glyph\":{\"id\":\"7371\"},\"hover_glyph\":null,\"muted_glyph\":null,\"nonselection_glyph\":{\"id\":\"7372\"},\"selection_glyph\":null,\"view\":{\"id\":\"7374\"}},\"id\":\"7373\",\"type\":\"GlyphRenderer\"},{\"attributes\":{\"source\":{\"id\":\"7370\"}},\"id\":\"7374\",\"type\":\"CDSView\"},{\"attributes\":{\"line_alpha\":0.1,\"line_color\":\"blue\",\"line_width\":2,\"x\":{\"field\":\"x\"},\"y\":{\"field\":\"y\"}},\"id\":\"7372\",\"type\":\"Line\"},{\"attributes\":{\"fill_alpha\":{\"value\":0.1},\"fill_color\":{\"value\":\"red\"},\"line_alpha\":{\"value\":0.1},\"line_color\":{\"value\":\"#1f77b4\"},\"x\":{\"field\":\"x\"},\"y\":{\"field\":\"y\"}},\"id\":\"7411\",\"type\":\"Scatter\"},{\"attributes\":{},\"id\":\"7150\",\"type\":\"Selection\"},{\"attributes\":{\"data_source\":{\"id\":\"7109\"},\"glyph\":{\"id\":\"7110\"},\"hover_glyph\":null,\"muted_glyph\":null,\"nonselection_glyph\":{\"id\":\"7111\"},\"selection_glyph\":null,\"view\":{\"id\":\"7113\"}},\"id\":\"7112\",\"type\":\"GlyphRenderer\"},{\"attributes\":{},\"id\":\"7127\",\"type\":\"Selection\"},{\"attributes\":{\"source\":{\"id\":\"7109\"}},\"id\":\"7113\",\"type\":\"CDSView\"},{\"attributes\":{\"data\":{\"x\":{\"__ndarray__\":\"AAAAAAAAAACSN2u0yGnAP5I3a7TIadA/W9OgDq2e2D+SN2u0yGngP3YFhuE6hOQ/W9OgDq2e6D9Aobs7H7nsP5I3a7TIafA/hJ74ygF38j92BYbhOoT0P2lsE/hzkfY/W9OgDq2e+D9NOi4l5qv6P0Chuzsfufw/MghJUljG/j+SN2u0yGkAQAvrsT9lcAFAhJ74ygF3AkD9UT9Wnn0DQHYFhuE6hARA8LjMbNeKBUBpbBP4c5EGQOIfWoMQmAdAW9OgDq2eCEDUhueZSaUJQE06LiXmqwpAxu10sIKyC0BAobs7H7kMQLlUAse7vw1AMghJUljGDkCru4/d9MwPQJI3a7TIaRBAT5EO+hbtEEAL67E/ZXARQMhEVYWz8xFAhJ74ygF3EkBB+JsQUPoSQP1RP1aefRNAuqvim+wAFEB2BYbhOoQUQDNfKSeJBxVA8LjMbNeKFUCsEnCyJQ4WQGlsE/hzkRZAJca2PcIUF0DiH1qDEJgXQJ55/cheGxhAW9OgDq2eGEAYLURU+yEZQA==\",\"dtype\":\"float64\",\"shape\":[50]},\"y\":{\"__ndarray__\":\"tdaJv44N6D+Xn3WPNPrnP1Aqjisky+c/YBce+jaN5z8vlMCtuEjnP5V+hEn5Auc/8l6REWW/5j/vaOzSB4DmPxz7Hq77ReY/UGxkaL8R5j8OmrJfdOPlP2TY7PvruuU/c5oVyNyX5T91TPOv3HnlP7TTgDOBYOU/Slszm11L5T/CxCKY/TnlP8Lsn/D2K+U/3faJJ+Eg5T9Lmxj3XRjlP4oRISIKEuU/yoEUcpAN5T9lXCKklArlP3gU8J3MCOU/Jz7yZ/oH5T8nPvJn+gflP3QU8J3MCOU/ZVwipJQK5T/KgRRykA3lP4oRISIKEuU/S5sY910Y5T/d9okn4SDlP8Xsn/D2K+U/wsQimP055T9KWzObXUvlP7TTgDOBYOU/dUzzr9x55T9ymhXI3JflP2bY7PvruuU/DpqyX3Tj5T9ObGRovxHmPyD7Hq77ReY/7mjs0geA5j/yXpERZb/mP5V+hEn5Auc/L5TArbhI5z9gFx76No3nP1Eqjisky+c/l591jzT65z+21om/jg3oPw==\",\"dtype\":\"float64\",\"shape\":[50]}},\"selected\":{\"id\":\"7490\"},\"selection_policy\":{\"id\":\"7491\"}},\"id\":\"7409\",\"type\":\"ColumnDataSource\"},{\"attributes\":{\"data\":{\"x\":{\"__ndarray__\":\"AAAAAAAAAACSN2u0yGnAP5I3a7TIadA/W9OgDq2e2D+SN2u0yGngP3YFhuE6hOQ/W9OgDq2e6D9Aobs7H7nsP5I3a7TIafA/hJ74ygF38j92BYbhOoT0P2lsE/hzkfY/W9OgDq2e+D9NOi4l5qv6P0Chuzsfufw/MghJUljG/j+SN2u0yGkAQAvrsT9lcAFAhJ74ygF3AkD9UT9Wnn0DQHYFhuE6hARA8LjMbNeKBUBpbBP4c5EGQOIfWoMQmAdAW9OgDq2eCEDUhueZSaUJQE06LiXmqwpAxu10sIKyC0BAobs7H7kMQLlUAse7vw1AMghJUljGDkCru4/d9MwPQJI3a7TIaRBAT5EO+hbtEEAL67E/ZXARQMhEVYWz8xFAhJ74ygF3EkBB+JsQUPoSQP1RP1aefRNAuqvim+wAFEB2BYbhOoQUQDNfKSeJBxVA8LjMbNeKFUCsEnCyJQ4WQGlsE/hzkRZAJca2PcIUF0DiH1qDEJgXQJ55/cheGxhAW9OgDq2eGEAYLURU+yEZQA==\",\"dtype\":\"float64\",\"shape\":[50]},\"y\":{\"__ndarray__\":\"MpkqGJXU8T+of/DYDrvxPyWXlAlbdvE/H+ikbWAR8T/wuWUOvpXwP8AFbiLAC/A/bXLGgsT07j/Bor9Guc7tP0NpjwV0ruw/sw/vYuea6z9OZbgXI5nqP+7D1FCXrOk/CCEb01fX6D/U4GLYWxroPw9DRE24dec/gw4Wy9Lo5j98EldajHLmP2uPubljEeY/B+cFoI/D5T+NEYRGEoflPzS6CaHIWeU/WiWRP3k55T8t+E9K6SPlP4pmS0gBF+U/S0zf/QsR5T9LTN/9CxHlP4tmS0gBF+U/LfhPSukj5T9ZJZE/eTnlPzS6CaHIWeU/jRGERhKH5T8F5wWgj8PlP2iPubljEeY/fBJXWoxy5j+BDhbL0ujmPw1DRE24dec/0+Bi2Fsa6D8EIRvTV9foP+zD1FCXrOk/TWW4FyOZ6j+wD+9i55rrP0BpjwV0ruw/waK/RrnO7T9qcsaCxPTuP78FbiLAC/A/77llDr6V8D8e6KRtYBHxPyaXlAlbdvE/qH/w2A678T8ymSoYldTxPw==\",\"dtype\":\"float64\",\"shape\":[50]}},\"selected\":{\"id\":\"7175\"},\"selection_policy\":{\"id\":\"7176\"}},\"id\":\"7130\",\"type\":\"ColumnDataSource\"},{\"attributes\":{\"data_source\":{\"id\":\"7073\"},\"glyph\":{\"id\":\"7074\"},\"hover_glyph\":null,\"muted_glyph\":null,\"nonselection_glyph\":{\"id\":\"7075\"},\"selection_glyph\":null,\"view\":{\"id\":\"7077\"}},\"id\":\"7076\",\"type\":\"GlyphRenderer\"},{\"attributes\":{},\"id\":\"7087\",\"type\":\"Selection\"},{\"attributes\":{},\"id\":\"7128\",\"type\":\"UnionRenderers\"},{\"attributes\":{},\"id\":\"7407\",\"type\":\"UnionRenderers\"},{\"attributes\":{\"line_color\":\"blue\",\"line_width\":2,\"x\":{\"field\":\"x\"},\"y\":{\"field\":\"y\"}},\"id\":\"7131\",\"type\":\"Line\"},{\"attributes\":{\"fill_color\":{\"value\":\"red\"},\"line_color\":{\"value\":\"#1f77b4\"},\"x\":{\"field\":\"x\"},\"y\":{\"field\":\"y\"}},\"id\":\"7410\",\"type\":\"Scatter\"},{\"attributes\":{},\"id\":\"7490\",\"type\":\"Selection\"},{\"attributes\":{\"source\":{\"id\":\"7130\"}},\"id\":\"7134\",\"type\":\"CDSView\"},{\"attributes\":{\"line_alpha\":0.1,\"line_color\":\"blue\",\"line_width\":2,\"x\":{\"field\":\"x\"},\"y\":{\"field\":\"y\"}},\"id\":\"7132\",\"type\":\"Line\"},{\"attributes\":{\"fill_alpha\":{\"value\":0.1},\"fill_color\":{\"value\":\"red\"},\"line_alpha\":{\"value\":0.1},\"line_color\":{\"value\":\"#1f77b4\"},\"x\":{\"field\":\"x\"},\"y\":{\"field\":\"y\"}},\"id\":\"7155\",\"type\":\"Scatter\"},{\"attributes\":{\"data\":{\"x\":{\"__ndarray__\":\"AAAAAAAAAACSN2u0yGnAP5I3a7TIadA/W9OgDq2e2D+SN2u0yGngP3YFhuE6hOQ/W9OgDq2e6D9Aobs7H7nsP5I3a7TIafA/hJ74ygF38j92BYbhOoT0P2lsE/hzkfY/W9OgDq2e+D9NOi4l5qv6P0Chuzsfufw/MghJUljG/j+SN2u0yGkAQAvrsT9lcAFAhJ74ygF3AkD9UT9Wnn0DQHYFhuE6hARA8LjMbNeKBUBpbBP4c5EGQOIfWoMQmAdAW9OgDq2eCEDUhueZSaUJQE06LiXmqwpAxu10sIKyC0BAobs7H7kMQLlUAse7vw1AMghJUljGDkCru4/d9MwPQJI3a7TIaRBAT5EO+hbtEEAL67E/ZXARQMhEVYWz8xFAhJ74ygF3EkBB+JsQUPoSQP1RP1aefRNAuqvim+wAFEB2BYbhOoQUQDNfKSeJBxVA8LjMbNeKFUCsEnCyJQ4WQGlsE/hzkRZAJca2PcIUF0DiH1qDEJgXQJ55/cheGxhAW9OgDq2eGEAYLURU+yEZQA==\",\"dtype\":\"float64\",\"shape\":[50]},\"y\":{\"__ndarray__\":\"d5AOd0Rx5j9ht5IiHmLmPwxbVBEjPuY/c0SfqJIP5j+hNGJs4tzlP8tl5O8NquU/cxzyM3N55T+bQpzkY0zlP3Y6cE+FI+U/hkSEzw//5D8EeoWi+N7kPxvJC14Nw+Q/V08AzQWr5D8zS5Vij5bkPz6xamBUheQ/kJWYGAB35D93gk88QWvkP2Erf9nKYeQ/IVDBeVRa5D9SMAG8mVTkP1jvlr5ZUOQ/FyXuwlZN5D+ScWqkVkvkPyxqAgYlSuQ/L3E3KphJ5D8vcTcqmEnkPytqAgYlSuQ/knFqpFZL5D8XJe7CVk3kP1fvlr5ZUOQ/UzABvJlU5D8hUMF5VFrkP2Erf9nKYeQ/d4JPPEFr5D+OlZgYAHfkPz+xamBUheQ/M0uVYo+W5D9VTwDNBavkPxvJC14Nw+Q/A3qFovje5D+GRITPD//kP3Y6cE+FI+U/nEKc5GNM5T9xHPIzc3nlP8tl5O8NquU/nzRibOLc5T91RJ+okg/mPw1bVBEjPuY/YbeSIh5i5j93kA53RHHmPw==\",\"dtype\":\"float64\",\"shape\":[50]}},\"selected\":{\"id\":\"7535\"},\"selection_policy\":{\"id\":\"7536\"}},\"id\":\"7450\",\"type\":\"ColumnDataSource\"},{\"attributes\":{\"data_source\":{\"id\":\"7409\"},\"glyph\":{\"id\":\"7410\"},\"hover_glyph\":null,\"muted_glyph\":null,\"nonselection_glyph\":{\"id\":\"7411\"},\"selection_glyph\":null,\"view\":{\"id\":\"7413\"}},\"id\":\"7412\",\"type\":\"GlyphRenderer\"},{\"attributes\":{\"data\":{\"x\":{\"__ndarray__\":\"AAAAAAAAAACSN2u0yGnAP5I3a7TIadA/W9OgDq2e2D+SN2u0yGngP3YFhuE6hOQ/W9OgDq2e6D9Aobs7H7nsP5I3a7TIafA/hJ74ygF38j92BYbhOoT0P2lsE/hzkfY/W9OgDq2e+D9NOi4l5qv6P0Chuzsfufw/MghJUljG/j+SN2u0yGkAQAvrsT9lcAFAhJ74ygF3AkD9UT9Wnn0DQHYFhuE6hARA8LjMbNeKBUBpbBP4c5EGQOIfWoMQmAdAW9OgDq2eCEDUhueZSaUJQE06LiXmqwpAxu10sIKyC0BAobs7H7kMQLlUAse7vw1AMghJUljGDkCru4/d9MwPQJI3a7TIaRBAT5EO+hbtEEAL67E/ZXARQMhEVYWz8xFAhJ74ygF3EkBB+JsQUPoSQP1RP1aefRNAuqvim+wAFEB2BYbhOoQUQDNfKSeJBxVA8LjMbNeKFUCsEnCyJQ4WQGlsE/hzkRZAJca2PcIUF0DiH1qDEJgXQJ55/cheGxhAW9OgDq2eGEAYLURU+yEZQA==\",\"dtype\":\"float64\",\"shape\":[50]},\"y\":{\"__ndarray__\":\"njqpxo/U8T/faXYVBrvxP3yKzfApdvE/mxEEBRIR8T8k5efjWZXwP5u8XYlKC/A/FQjtyrbz7j9QqLQUlM3tP34fCQk8rew/WuDOwZ6Z6z8adu8iz5fqP3KWH9E6q+k/QXa4T/XV6D9zDsVY+BjoP93A3QRSdOc/FzvA923n5j/j3FQzKXHmP6ynvmoBEOY/bWewty3C5T8qsszltoXlP7liboVtWOU/5egUnSM45T/e0hpJlCLlP2B29NqwFeU/zCjin70P5T/OKOKfvQ/lP1129NqwFeU/3tIaSZQi5T/m6BSdIzjlP7piboVtWOU/KrLM5baF5T9tZ7C3LcLlP66nvmoBEOY/49xUMylx5j8UO8D3befmP9vA3QRSdOc/cw7FWPgY6D8+drhP9dXoP3OWH9E6q+k/GXbvIs+X6j9V4M7BnpnrP30fCQk8rew/T6i0FJTN7T8VCO3KtvPuP5i8XYlKC/A/IuXn41mV8D+bEQQFEhHxP3uKzfApdvE/3ml2FQa78T+hOqnGj9TxPw==\",\"dtype\":\"float64\",\"shape\":[50]}},\"selected\":{\"id\":\"7202\"},\"selection_policy\":{\"id\":\"7203\"}},\"id\":\"7153\",\"type\":\"ColumnDataSource\"},{\"attributes\":{},\"id\":\"7447\",\"type\":\"Selection\"},{\"attributes\":{\"source\":{\"id\":\"7409\"}},\"id\":\"7413\",\"type\":\"CDSView\"},{\"attributes\":{},\"id\":\"7151\",\"type\":\"UnionRenderers\"},{\"attributes\":{},\"id\":\"7448\",\"type\":\"UnionRenderers\"},{\"attributes\":{\"fill_color\":{\"value\":\"red\"},\"line_color\":{\"value\":\"#1f77b4\"},\"x\":{\"field\":\"x\"},\"y\":{\"field\":\"y\"}},\"id\":\"7154\",\"type\":\"Scatter\"},{\"attributes\":{\"line_color\":\"blue\",\"line_width\":2,\"x\":{\"field\":\"x\"},\"y\":{\"field\":\"y\"}},\"id\":\"7451\",\"type\":\"Line\"},{\"attributes\":{\"data_source\":{\"id\":\"7450\"},\"glyph\":{\"id\":\"7451\"},\"hover_glyph\":null,\"muted_glyph\":null,\"nonselection_glyph\":{\"id\":\"7452\"},\"selection_glyph\":null,\"view\":{\"id\":\"7454\"}},\"id\":\"7453\",\"type\":\"GlyphRenderer\"},{\"attributes\":{\"data\":{\"x\":{\"__ndarray__\":\"AAAAAAAAAACSN2u0yGnAP5I3a7TIadA/W9OgDq2e2D+SN2u0yGngP3YFhuE6hOQ/W9OgDq2e6D9Aobs7H7nsP5I3a7TIafA/hJ74ygF38j92BYbhOoT0P2lsE/hzkfY/W9OgDq2e+D9NOi4l5qv6P0Chuzsfufw/MghJUljG/j+SN2u0yGkAQAvrsT9lcAFAhJ74ygF3AkD9UT9Wnn0DQHYFhuE6hARA8LjMbNeKBUBpbBP4c5EGQOIfWoMQmAdAW9OgDq2eCEDUhueZSaUJQE06LiXmqwpAxu10sIKyC0BAobs7H7kMQLlUAse7vw1AMghJUljGDkCru4/d9MwPQJI3a7TIaRBAT5EO+hbtEEAL67E/ZXARQMhEVYWz8xFAhJ74ygF3EkBB+JsQUPoSQP1RP1aefRNAuqvim+wAFEB2BYbhOoQUQDNfKSeJBxVA8LjMbNeKFUCsEnCyJQ4WQGlsE/hzkRZAJca2PcIUF0DiH1qDEJgXQJ55/cheGxhAW9OgDq2eGEAYLURU+yEZQA==\",\"dtype\":\"float64\",\"shape\":[50]},\"y\":{\"__ndarray__\":\"fj81XrpJ9D/VKrhNCyn0P/QPnNc4zvM/c0RLdQxE8z9gu5f8ApXyPxFRBK0Ny/E/gKZIUl7v8D/Mf/sqPwrwP9yEv6DtRe4/9bVC0W9/7D+XK3n0N8vqPyjyx5JQMek/Ma1xh7a35z+aXfhTgWLmPxNzA9YUNOU/xfpxE1gt5D/6E+n67E3jP6hH45ZllOI/jnaGWnT+4T+WtFr2FonhP1SsBau9MOE/H9oysHTx4D9/LwOXGsfgPy+UblS1reA/pyh9FPmh4D+mKH0U+aHgPy+UblS1reA/fy8DlxrH4D8e2jKwdPHgP1OsBau9MOE/lrRa9haJ4T+MdoZadP7hP6ZH45ZllOI/+hPp+uxN4z/C+nETWC3kPxBzA9YUNOU/mV34U4Fi5j8vrXGHtrfnPyPyx5JQMek/lCt59DfL6j/xtULRb3/sP9iEv6DtRe4/zH/7Kj8K8D99pkhSXu/wPw9RBK0Ny/E/X7uX/AKV8j9yREt1DETzP/UPnNc4zvM/1Sq4TQsp9D9+PzVeukn0Pw==\",\"dtype\":\"float64\",\"shape\":[50]}},\"selected\":{\"id\":\"7127\"},\"selection_policy\":{\"id\":\"7128\"}},\"id\":\"7090\",\"type\":\"ColumnDataSource\"},{\"attributes\":{\"fill_alpha\":{\"value\":0.1},\"fill_color\":{\"value\":\"red\"},\"line_alpha\":{\"value\":0.1},\"line_color\":{\"value\":\"#1f77b4\"},\"x\":{\"field\":\"x\"},\"y\":{\"field\":\"y\"}},\"id\":\"7075\",\"type\":\"Scatter\"},{\"attributes\":{\"source\":{\"id\":\"7450\"}},\"id\":\"7454\",\"type\":\"CDSView\"},{\"attributes\":{\"line_alpha\":0.1,\"line_color\":\"blue\",\"line_width\":2,\"x\":{\"field\":\"x\"},\"y\":{\"field\":\"y\"}},\"id\":\"7452\",\"type\":\"Line\"},{\"attributes\":{},\"id\":\"7070\",\"type\":\"Selection\"},{\"attributes\":{\"data\":{\"x\":{\"__ndarray__\":\"AAAAAAAAAACSN2u0yGnAP5I3a7TIadA/W9OgDq2e2D+SN2u0yGngP3YFhuE6hOQ/W9OgDq2e6D9Aobs7H7nsP5I3a7TIafA/hJ74ygF38j92BYbhOoT0P2lsE/hzkfY/W9OgDq2e+D9NOi4l5qv6P0Chuzsfufw/MghJUljG/j+SN2u0yGkAQAvrsT9lcAFAhJ74ygF3AkD9UT9Wnn0DQHYFhuE6hARA8LjMbNeKBUBpbBP4c5EGQOIfWoMQmAdAW9OgDq2eCEDUhueZSaUJQE06LiXmqwpAxu10sIKyC0BAobs7H7kMQLlUAse7vw1AMghJUljGDkCru4/d9MwPQJI3a7TIaRBAT5EO+hbtEEAL67E/ZXARQMhEVYWz8xFAhJ74ygF3EkBB+JsQUPoSQP1RP1aefRNAuqvim+wAFEB2BYbhOoQUQDNfKSeJBxVA8LjMbNeKFUCsEnCyJQ4WQGlsE/hzkRZAJca2PcIUF0DiH1qDEJgXQJ55/cheGxhAW9OgDq2eGEAYLURU+yEZQA==\",\"dtype\":\"float64\",\"shape\":[50]},\"y\":{\"__ndarray__\":\"to6qJoi67z84SdsKnJLvP6/1DL5GKu8/OLuwvqCV7j98oWxG/uTtPxfHa0lZJe0/M/1b4b9g7D9A1u34wZ7rP8WUMhba5Oo/BmJbOs426j88BIbZBpfpP7h4kNraBuk/GEDQUdCG6D+rpE090hboP6KWR+9btuc/x+8tE5tk5z/TyC1diSDnP7y0Sgv/6OY/Mv5oeb+85j9J45g6gZrmPwQTIYrzgOY/CUPOnMNu5j9fSAGdpWLmP5EgHN1mW+Y/yS1vHg9Y5j/JLW8eD1jmP5EgHN1mW+Y/X0gBnaVi5j8IQ86cw27mPwQTIYrzgOY/SeOYOoGa5j8x/mh5v7zmP7u0Sgv/6OY/08gtXYkg5z/E7y0Tm2TnP6GWR+9btuc/qqRNPdIW6D8VQNBR0IboP7Z4kNraBuk/OwSG2QaX6T8DYls6zjbqP8KUMhba5Oo/QNbt+MGe6z8w/Vvhv2DsPxXHa0lZJe0/eqFsRv7k7T84u7C+oJXuP7H1DL5GKu8/OEnbCpyS7z+1jqomiLrvPw==\",\"dtype\":\"float64\",\"shape\":[50]}},\"selected\":{\"id\":\"7231\"},\"selection_policy\":{\"id\":\"7232\"}},\"id\":\"7178\",\"type\":\"ColumnDataSource\"},{\"attributes\":{\"fill_alpha\":{\"value\":0.1},\"fill_color\":{\"value\":\"red\"},\"line_alpha\":{\"value\":0.1},\"line_color\":{\"value\":\"#1f77b4\"},\"x\":{\"field\":\"x\"},\"y\":{\"field\":\"y\"}},\"id\":\"7495\",\"type\":\"Scatter\"},{\"attributes\":{\"data_source\":{\"id\":\"7153\"},\"glyph\":{\"id\":\"7154\"},\"hover_glyph\":null,\"muted_glyph\":null,\"nonselection_glyph\":{\"id\":\"7155\"},\"selection_glyph\":null,\"view\":{\"id\":\"7157\"}},\"id\":\"7156\",\"type\":\"GlyphRenderer\"},{\"attributes\":{\"source\":{\"id\":\"7073\"}},\"id\":\"7077\",\"type\":\"CDSView\"},{\"attributes\":{},\"id\":\"7175\",\"type\":\"Selection\"},{\"attributes\":{\"source\":{\"id\":\"7153\"}},\"id\":\"7157\",\"type\":\"CDSView\"},{\"attributes\":{\"data\":{\"x\":{\"__ndarray__\":\"AAAAAAAAAACSN2u0yGnAP5I3a7TIadA/W9OgDq2e2D+SN2u0yGngP3YFhuE6hOQ/W9OgDq2e6D9Aobs7H7nsP5I3a7TIafA/hJ74ygF38j92BYbhOoT0P2lsE/hzkfY/W9OgDq2e+D9NOi4l5qv6P0Chuzsfufw/MghJUljG/j+SN2u0yGkAQAvrsT9lcAFAhJ74ygF3AkD9UT9Wnn0DQHYFhuE6hARA8LjMbNeKBUBpbBP4c5EGQOIfWoMQmAdAW9OgDq2eCEDUhueZSaUJQE06LiXmqwpAxu10sIKyC0BAobs7H7kMQLlUAse7vw1AMghJUljGDkCru4/d9MwPQJI3a7TIaRBAT5EO+hbtEEAL67E/ZXARQMhEVYWz8xFAhJ74ygF3EkBB+JsQUPoSQP1RP1aefRNAuqvim+wAFEB2BYbhOoQUQDNfKSeJBxVA8LjMbNeKFUCsEnCyJQ4WQGlsE/hzkRZAJca2PcIUF0DiH1qDEJgXQJ55/cheGxhAW9OgDq2eGEAYLURU+yEZQA==\",\"dtype\":\"float64\",\"shape\":[50]},\"y\":{\"__ndarray__\":\"NtzhKD5x5j8C8d7TDGLmP9jQ9IapPeY/fiW2Ht0O5j9u+dAGC9zlP0bISkEXqeU/Ptj+w2J45T8pOOJYQUvlP7VGTFdVIuU/hLeHb9P95D/A1qiest3kP+Zs+mHCweQ//gdVz7ep5D+4GD1bPJXkP/geQi78g+Q/7jO6PqZ15D8evd5c52nkP4jaXC1uYOQ/Xmf97PZY5D8i+zfuPFPkP7bZoTr7TuQ/0N4Hf/hL5D+dHHKq9knkP5DlDaLESOQ/e7QYxjdI5D97tBjGN0jkP47lDaLESOQ/nRxyqvZJ5D/Q3gd/+EvkP7bZoTr7TuQ/Ivs37jxT5D9eZ/3s9ljkP4naXC1uYOQ/Hr3eXOdp5D/uM7o+pnXkP/geQi78g+Q/uBg9WzyV5D/9B1XPt6nkP+ls+mHCweQ/wNaonrLd5D+Ct4dv0/3kP7dGTFdVIuU/KDjiWEFL5T8+2P7DYnjlP0bISkEXqeU/bvnQBgvc5T9+JbYe3Q7mP9rQ9IapPeY/AvHe0wxi5j823OEoPnHmPw==\",\"dtype\":\"float64\",\"shape\":[50]}},\"selected\":{\"id\":\"7785\"},\"selection_policy\":{\"id\":\"7786\"}},\"id\":\"7493\",\"type\":\"ColumnDataSource\"},{\"attributes\":{},\"id\":\"7176\",\"type\":\"UnionRenderers\"},{\"attributes\":{},\"id\":\"7491\",\"type\":\"UnionRenderers\"},{\"attributes\":{\"line_color\":\"blue\",\"line_width\":2,\"x\":{\"field\":\"x\"},\"y\":{\"field\":\"y\"}},\"id\":\"7179\",\"type\":\"Line\"},{\"attributes\":{\"line_alpha\":0.1,\"line_color\":\"blue\",\"line_width\":2,\"x\":{\"field\":\"x\"},\"y\":{\"field\":\"y\"}},\"id\":\"7180\",\"type\":\"Line\"}],\"root_ids\":[\"6998\"]},\"title\":\"Bokeh Application\",\"version\":\"2.0.2\"}};\n",
       "  var render_items = [{\"docid\":\"cd0a7c76-07b3-4752-9472-657ee05ed271\",\"root_ids\":[\"6998\"],\"roots\":{\"6998\":\"9ea19454-8201-49f8-8202-96971f8c5b51\"}}];\n",
       "  root.Bokeh.embed.embed_items_notebook(docs_json, render_items);\n",
       "\n",
       "  }\n",
       "  if (root.Bokeh !== undefined) {\n",
       "    embed_document(root);\n",
       "  } else {\n",
       "    var attempts = 0;\n",
       "    var timer = setInterval(function(root) {\n",
       "      if (root.Bokeh !== undefined) {\n",
       "        clearInterval(timer);\n",
       "        embed_document(root);\n",
       "      } else {\n",
       "        attempts++;\n",
       "        if (attempts > 100) {\n",
       "          clearInterval(timer);\n",
       "          console.log(\"Bokeh: ERROR: Unable to run BokehJS code because BokehJS library is missing\");\n",
       "        }\n",
       "      }\n",
       "    }, 10, root)\n",
       "  }\n",
       "})(window);"
      ],
      "application/vnd.bokehjs_exec.v0+json": ""
     },
     "metadata": {
      "application/vnd.bokehjs_exec.v0+json": {
       "id": "6998"
      }
     },
     "output_type": "display_data"
    }
   ],
   "source": [
    "\n",
    "# prepare some data\n",
    "x = [1, 2, 3, 4, 5]\n",
    "y = [6, 7, 2, 4, 5]\n",
    "\n",
    "# create a new plot with a title and axis labels\n",
    "p = figure(title=\"Kernel Comparison\", x_axis_label='x', y_axis_label='y', plot_width=800, plot_height=500)\n",
    "# add a line renderer with legend and line thickness\n",
    "for depth in depths:\n",
    "    p.line(angles, K_thetas_analytical[:,depth], legend_label=\"Temp.\", line_width=2, line_color='blue')\n",
    "    p.scatter(angles, K_thetas_general[:,depth], legend_label=\"Interpolation\", fill_color='red')\n",
    "\n",
    "# show the results\n",
    "show(p)"
   ]
  },
  {
   "cell_type": "code",
   "execution_count": 545,
   "metadata": {
    "Collapsed": "false"
   },
   "outputs": [
    {
     "data": {
      "text/html": [
       "\n",
       "\n",
       "\n",
       "\n",
       "<!DOCTYPE html>\n",
       "<html lang=\"en\">\n",
       "  \n",
       "  <head>\n",
       "    \n",
       "      <meta charset=\"utf-8\">\n",
       "      <title>Bokeh Plot</title>\n",
       "      \n",
       "      \n",
       "        \n",
       "          \n",
       "        \n",
       "        \n",
       "          \n",
       "        <script type=\"text/javascript\" src=\"https://cdn.bokeh.org/bokeh/release/bokeh-2.0.2.min.js\" integrity=\"sha384-ufR9RFnRs6lniiaFvtJziE0YeidtAgBRH6ux2oUItHw5WTvE1zuk9uzhUU/FJXDp\" crossorigin=\"anonymous\"></script>\n",
       "        <script type=\"text/javascript\">\n",
       "            Bokeh.set_log_level(\"info\");\n",
       "        </script>\n",
       "        \n",
       "      \n",
       "      \n",
       "    \n",
       "  </head>\n",
       "  \n",
       "  \n",
       "  <body>\n",
       "    \n",
       "      \n",
       "        \n",
       "          \n",
       "          \n",
       "            \n",
       "              <div class=\"bk-root\" id=\"e610d6a2-231f-4cbd-9228-f9ac37a69d24\" data-root-id=\"2318\"></div>\n",
       "            \n",
       "          \n",
       "        \n",
       "      \n",
       "      \n",
       "        <script type=\"application/json\" id=\"2556\">\n",
       "          {\"19d86613-7b9b-4f2a-be92-0c0ddca7e1eb\":{\"roots\":{\"references\":[{\"attributes\":{\"below\":[{\"id\":\"2329\"}],\"center\":[{\"id\":\"2332\"},{\"id\":\"2336\"},{\"id\":\"2362\"}],\"left\":[{\"id\":\"2333\"}],\"renderers\":[{\"id\":\"2354\"}],\"title\":{\"id\":\"2319\"},\"toolbar\":{\"id\":\"2344\"},\"x_range\":{\"id\":\"2321\"},\"x_scale\":{\"id\":\"2325\"},\"y_range\":{\"id\":\"2323\"},\"y_scale\":{\"id\":\"2327\"}},\"id\":\"2318\",\"subtype\":\"Figure\",\"type\":\"Plot\"},{\"attributes\":{},\"id\":\"2325\",\"type\":\"LinearScale\"},{\"attributes\":{},\"id\":\"2342\",\"type\":\"HelpTool\"},{\"attributes\":{\"text\":\"Kernel Comparison\"},\"id\":\"2319\",\"type\":\"Title\"},{\"attributes\":{},\"id\":\"2409\",\"type\":\"Selection\"},{\"attributes\":{\"source\":{\"id\":\"2351\"}},\"id\":\"2355\",\"type\":\"CDSView\"},{\"attributes\":{\"axis_label\":\"x\",\"formatter\":{\"id\":\"2360\"},\"ticker\":{\"id\":\"2330\"}},\"id\":\"2329\",\"type\":\"LinearAxis\"},{\"attributes\":{},\"id\":\"2358\",\"type\":\"BasicTickFormatter\"},{\"attributes\":{},\"id\":\"2323\",\"type\":\"DataRange1d\"},{\"attributes\":{},\"id\":\"2341\",\"type\":\"ResetTool\"},{\"attributes\":{\"items\":[{\"id\":\"2363\"}]},\"id\":\"2362\",\"type\":\"Legend\"},{\"attributes\":{},\"id\":\"2360\",\"type\":\"BasicTickFormatter\"},{\"attributes\":{},\"id\":\"2334\",\"type\":\"BasicTicker\"},{\"attributes\":{\"axis\":{\"id\":\"2333\"},\"dimension\":1,\"ticker\":null},\"id\":\"2336\",\"type\":\"Grid\"},{\"attributes\":{\"data_source\":{\"id\":\"2351\"},\"glyph\":{\"id\":\"2352\"},\"hover_glyph\":null,\"muted_glyph\":null,\"nonselection_glyph\":{\"id\":\"2353\"},\"selection_glyph\":null,\"view\":{\"id\":\"2355\"}},\"id\":\"2354\",\"type\":\"GlyphRenderer\"},{\"attributes\":{\"label\":{\"value\":\"Temp.\"},\"renderers\":[{\"id\":\"2354\"}]},\"id\":\"2363\",\"type\":\"LegendItem\"},{\"attributes\":{\"axis_label\":\"y\",\"formatter\":{\"id\":\"2358\"},\"ticker\":{\"id\":\"2334\"}},\"id\":\"2333\",\"type\":\"LinearAxis\"},{\"attributes\":{},\"id\":\"2338\",\"type\":\"WheelZoomTool\"},{\"attributes\":{},\"id\":\"2330\",\"type\":\"BasicTicker\"},{\"attributes\":{\"axis\":{\"id\":\"2329\"},\"ticker\":null},\"id\":\"2332\",\"type\":\"Grid\"},{\"attributes\":{},\"id\":\"2327\",\"type\":\"LinearScale\"},{\"attributes\":{},\"id\":\"2321\",\"type\":\"DataRange1d\"},{\"attributes\":{},\"id\":\"2337\",\"type\":\"PanTool\"},{\"attributes\":{\"active_drag\":\"auto\",\"active_inspect\":\"auto\",\"active_multi\":null,\"active_scroll\":\"auto\",\"active_tap\":\"auto\",\"tools\":[{\"id\":\"2337\"},{\"id\":\"2338\"},{\"id\":\"2339\"},{\"id\":\"2340\"},{\"id\":\"2341\"},{\"id\":\"2342\"}]},\"id\":\"2344\",\"type\":\"Toolbar\"},{\"attributes\":{\"data\":{\"x\":{\"__ndarray__\":\"AAAAAAAAAACSN2u0yGnAP5I3a7TIadA/W9OgDq2e2D+SN2u0yGngP3YFhuE6hOQ/W9OgDq2e6D9Aobs7H7nsP5I3a7TIafA/hJ74ygF38j92BYbhOoT0P2lsE/hzkfY/W9OgDq2e+D9NOi4l5qv6P0Chuzsfufw/MghJUljG/j+SN2u0yGkAQAvrsT9lcAFAhJ74ygF3AkD9UT9Wnn0DQHYFhuE6hARA8LjMbNeKBUBpbBP4c5EGQOIfWoMQmAdAW9OgDq2eCEDUhueZSaUJQE06LiXmqwpAxu10sIKyC0BAobs7H7kMQLlUAse7vw1AMghJUljGDkCru4/d9MwPQJI3a7TIaRBAT5EO+hbtEEAL67E/ZXARQMhEVYWz8xFAhJ74ygF3EkBB+JsQUPoSQP1RP1aefRNAuqvim+wAFEB2BYbhOoQUQDNfKSeJBxVA8LjMbNeKFUCsEnCyJQ4WQGlsE/hzkRZAJca2PcIUF0DiH1qDEJgXQJ55/cheGxhAW9OgDq2eGEAYLURU+yEZQA==\",\"dtype\":\"float64\",\"shape\":[50]},\"y\":{\"__ndarray__\":\"MzMzMzMz+z9dj8L1KFz3P34/NV66SfQ/MpkqGJXU8T+2jqomiLrvPytyiLg5lew/u8EG+voQ6j+VNNKUlQ3oP3eQDndEceY/\",\"dtype\":\"float64\",\"shape\":[9]}},\"selected\":{\"id\":\"2409\"},\"selection_policy\":{\"id\":\"2410\"}},\"id\":\"2351\",\"type\":\"ColumnDataSource\"},{\"attributes\":{\"line_alpha\":0.1,\"line_color\":\"#1f77b4\",\"line_width\":2,\"x\":{\"field\":\"x\"},\"y\":{\"field\":\"y\"}},\"id\":\"2353\",\"type\":\"Line\"},{\"attributes\":{\"bottom_units\":\"screen\",\"fill_alpha\":0.5,\"fill_color\":\"lightgrey\",\"left_units\":\"screen\",\"level\":\"overlay\",\"line_alpha\":1.0,\"line_color\":\"black\",\"line_dash\":[4,4],\"line_width\":2,\"render_mode\":\"css\",\"right_units\":\"screen\",\"top_units\":\"screen\"},\"id\":\"2343\",\"type\":\"BoxAnnotation\"},{\"attributes\":{\"overlay\":{\"id\":\"2343\"}},\"id\":\"2339\",\"type\":\"BoxZoomTool\"},{\"attributes\":{},\"id\":\"2340\",\"type\":\"SaveTool\"},{\"attributes\":{},\"id\":\"2410\",\"type\":\"UnionRenderers\"},{\"attributes\":{\"line_color\":\"#1f77b4\",\"line_width\":2,\"x\":{\"field\":\"x\"},\"y\":{\"field\":\"y\"}},\"id\":\"2352\",\"type\":\"Line\"}],\"root_ids\":[\"2318\"]},\"title\":\"Bokeh Application\",\"version\":\"2.0.2\"}}\n",
       "        </script>\n",
       "        <script type=\"text/javascript\">\n",
       "          (function() {\n",
       "            var fn = function() {\n",
       "              Bokeh.safely(function() {\n",
       "                (function(root) {\n",
       "                  function embed_document(root) {\n",
       "                    \n",
       "                  var docs_json = document.getElementById('2556').textContent;\n",
       "                  var render_items = [{\"docid\":\"19d86613-7b9b-4f2a-be92-0c0ddca7e1eb\",\"root_ids\":[\"2318\"],\"roots\":{\"2318\":\"e610d6a2-231f-4cbd-9228-f9ac37a69d24\"}}];\n",
       "                  root.Bokeh.embed.embed_items(docs_json, render_items);\n",
       "                \n",
       "                  }\n",
       "                  if (root.Bokeh !== undefined) {\n",
       "                    embed_document(root);\n",
       "                  } else {\n",
       "                    var attempts = 0;\n",
       "                    var timer = setInterval(function(root) {\n",
       "                      if (root.Bokeh !== undefined) {\n",
       "                        clearInterval(timer);\n",
       "                        embed_document(root);\n",
       "                      } else {\n",
       "                        attempts++;\n",
       "                        if (attempts > 100) {\n",
       "                          clearInterval(timer);\n",
       "                          console.log(\"Bokeh: ERROR: Unable to run BokehJS code because BokehJS library is missing\");\n",
       "                        }\n",
       "                      }\n",
       "                    }, 10, root)\n",
       "                  }\n",
       "                })(window);\n",
       "              });\n",
       "            };\n",
       "            if (document.readyState != \"loading\") fn();\n",
       "            else document.addEventListener(\"DOMContentLoaded\", fn);\n",
       "          })();\n",
       "        </script>\n",
       "    \n",
       "  </body>\n",
       "  \n",
       "</html>"
      ],
      "text/plain": [
       "<IPython.core.display.HTML object>"
      ]
     },
     "execution_count": 545,
     "metadata": {},
     "output_type": "execute_result"
    }
   ],
   "source": [
    "HTML('lines.html')"
   ]
  },
  {
   "cell_type": "code",
   "execution_count": null,
   "metadata": {
    "Collapsed": "false"
   },
   "outputs": [],
   "source": []
  }
 ],
 "metadata": {
  "kernelspec": {
   "display_name": "tensorflow_env",
   "language": "python",
   "name": "tensorflow_env"
  },
  "language_info": {
   "codemirror_mode": {
    "name": "ipython",
    "version": 3
   },
   "file_extension": ".py",
   "mimetype": "text/x-python",
   "name": "python",
   "nbconvert_exporter": "python",
   "pygments_lexer": "ipython3",
   "version": "3.7.4"
  },
  "toc": {
   "base_numbering": 1,
   "nav_menu": {},
   "number_sections": true,
   "sideBar": true,
   "skip_h1_title": true,
   "title_cell": "Table of Contents",
   "title_sidebar": "Contents",
   "toc_cell": false,
   "toc_position": {},
   "toc_section_display": true,
   "toc_window_display": false
  },
  "varInspector": {
   "cols": {
    "lenName": 16,
    "lenType": 16,
    "lenVar": 40
   },
   "kernels_config": {
    "python": {
     "delete_cmd_postfix": "",
     "delete_cmd_prefix": "del ",
     "library": "var_list.py",
     "varRefreshCmd": "print(var_dic_list())"
    },
    "r": {
     "delete_cmd_postfix": ") ",
     "delete_cmd_prefix": "rm(",
     "library": "var_list.r",
     "varRefreshCmd": "cat(var_dic_list()) "
    }
   },
   "types_to_exclude": [
    "module",
    "function",
    "builtin_function_or_method",
    "instance",
    "_Feature"
   ],
   "window_display": false
  }
 },
 "nbformat": 4,
 "nbformat_minor": 4
}
